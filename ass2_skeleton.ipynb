{
  "cells": [
    {
      "cell_type": "markdown",
      "metadata": {
        "id": "7wv9q_pcGshE"
      },
      "source": [
        "# Assignment 2 2AMM10 2023-2024\n",
        "\n",
        "## Group: [Fill in your group name]\n",
        "### Member 1: [Fill in your name]\n",
        "### Member 2: [Fill in your name]\n",
        "### Member 3: [Fill in your name]"
      ]
    },
    {
      "cell_type": "markdown",
      "metadata": {
        "id": "cQzvuDWw_Eyw"
      },
      "source": [
        "We need to install some specific libraries. The cell below installs torch_geometric for torch 2.6.0+cu124. In case the current version of torch is different, check [here](https://pytorch-geometric.readthedocs.io/en/latest/install/installation.html) to see which versions (of both libraries) you should install. You might also need to install an old version of torch from [here](https://pytorch.org/get-started/previous-versions/)\n",
        "\n",
        "**Note:** Do not install pyg_lib from the optional dependencies"
      ]
    },
    {
      "cell_type": "code",
      "execution_count": 52,
      "metadata": {
        "id": "ibC2lMHfD67H"
      },
      "outputs": [
        {
          "name": "stdout",
          "output_type": "stream",
          "text": [
            "Name: torch\n",
            "Version: 2.6.0\n",
            "Summary: Tensors and Dynamic neural networks in Python with strong GPU acceleration\n",
            "Home-page: https://pytorch.org/\n",
            "Author: PyTorch Team\n",
            "Author-email: packages@pytorch.org\n",
            "License: BSD-3-Clause\n",
            "Location: C:\\Users\\20182672\\AppData\\Local\\anaconda3\\envs\\MLEngineering\\Lib\\site-packages\n",
            "Requires: filelock, fsspec, jinja2, networkx, setuptools, sympy, typing-extensions\n",
            "Required-by: accelerate, flair, openml-pytorch, pytorch-lightning, pytorch_revgrad, torchmetrics, torchvision, transformer-smaller-training-vocab\n"
          ]
        }
      ],
      "source": [
        "!pip show torch"
      ]
    },
    {
      "cell_type": "code",
      "execution_count": 53,
      "metadata": {
        "id": "8qrPQFNe_AJu"
      },
      "outputs": [
        {
          "name": "stdout",
          "output_type": "stream",
          "text": [
            "Requirement already satisfied: rdkit in c:\\users\\20182672\\appdata\\local\\anaconda3\\envs\\mlengineering\\lib\\site-packages (2025.3.2)\n",
            "Requirement already satisfied: numpy in c:\\users\\20182672\\appdata\\local\\anaconda3\\envs\\mlengineering\\lib\\site-packages (from rdkit) (1.26.4)\n",
            "Requirement already satisfied: Pillow in c:\\users\\20182672\\appdata\\local\\anaconda3\\envs\\mlengineering\\lib\\site-packages (from rdkit) (10.4.0)\n"
          ]
        },
        {
          "name": "stderr",
          "output_type": "stream",
          "text": [
            "\n",
            "[notice] A new release of pip is available: 25.0.1 -> 25.1.1\n",
            "[notice] To update, run: python.exe -m pip install --upgrade pip\n"
          ]
        },
        {
          "name": "stdout",
          "output_type": "stream",
          "text": [
            "Requirement already satisfied: torch_geometric in c:\\users\\20182672\\appdata\\local\\anaconda3\\envs\\mlengineering\\lib\\site-packages (2.6.1)\n",
            "Requirement already satisfied: aiohttp in c:\\users\\20182672\\appdata\\local\\anaconda3\\envs\\mlengineering\\lib\\site-packages (from torch_geometric) (3.11.14)\n",
            "Requirement already satisfied: fsspec in c:\\users\\20182672\\appdata\\local\\anaconda3\\envs\\mlengineering\\lib\\site-packages (from torch_geometric) (2025.3.0)\n",
            "Requirement already satisfied: jinja2 in c:\\users\\20182672\\appdata\\local\\anaconda3\\envs\\mlengineering\\lib\\site-packages (from torch_geometric) (3.1.6)\n",
            "Requirement already satisfied: numpy in c:\\users\\20182672\\appdata\\local\\anaconda3\\envs\\mlengineering\\lib\\site-packages (from torch_geometric) (1.26.4)\n",
            "Requirement already satisfied: psutil>=5.8.0 in c:\\users\\20182672\\appdata\\local\\anaconda3\\envs\\mlengineering\\lib\\site-packages (from torch_geometric) (7.0.0)\n",
            "Requirement already satisfied: pyparsing in c:\\users\\20182672\\appdata\\local\\anaconda3\\envs\\mlengineering\\lib\\site-packages (from torch_geometric) (3.2.3)\n",
            "Requirement already satisfied: requests in c:\\users\\20182672\\appdata\\local\\anaconda3\\envs\\mlengineering\\lib\\site-packages (from torch_geometric) (2.32.3)\n",
            "Requirement already satisfied: tqdm in c:\\users\\20182672\\appdata\\local\\anaconda3\\envs\\mlengineering\\lib\\site-packages (from torch_geometric) (4.67.1)\n",
            "Requirement already satisfied: aiohappyeyeballs>=2.3.0 in c:\\users\\20182672\\appdata\\local\\anaconda3\\envs\\mlengineering\\lib\\site-packages (from aiohttp->torch_geometric) (2.6.1)\n",
            "Requirement already satisfied: aiosignal>=1.1.2 in c:\\users\\20182672\\appdata\\local\\anaconda3\\envs\\mlengineering\\lib\\site-packages (from aiohttp->torch_geometric) (1.3.2)\n",
            "Requirement already satisfied: attrs>=17.3.0 in c:\\users\\20182672\\appdata\\local\\anaconda3\\envs\\mlengineering\\lib\\site-packages (from aiohttp->torch_geometric) (25.1.0)\n",
            "Requirement already satisfied: frozenlist>=1.1.1 in c:\\users\\20182672\\appdata\\local\\anaconda3\\envs\\mlengineering\\lib\\site-packages (from aiohttp->torch_geometric) (1.5.0)\n",
            "Requirement already satisfied: multidict<7.0,>=4.5 in c:\\users\\20182672\\appdata\\local\\anaconda3\\envs\\mlengineering\\lib\\site-packages (from aiohttp->torch_geometric) (6.2.0)\n",
            "Requirement already satisfied: propcache>=0.2.0 in c:\\users\\20182672\\appdata\\local\\anaconda3\\envs\\mlengineering\\lib\\site-packages (from aiohttp->torch_geometric) (0.3.0)\n",
            "Requirement already satisfied: yarl<2.0,>=1.17.0 in c:\\users\\20182672\\appdata\\local\\anaconda3\\envs\\mlengineering\\lib\\site-packages (from aiohttp->torch_geometric) (1.18.3)\n",
            "Requirement already satisfied: MarkupSafe>=2.0 in c:\\users\\20182672\\appdata\\local\\anaconda3\\envs\\mlengineering\\lib\\site-packages (from jinja2->torch_geometric) (3.0.2)\n",
            "Requirement already satisfied: charset-normalizer<4,>=2 in c:\\users\\20182672\\appdata\\local\\anaconda3\\envs\\mlengineering\\lib\\site-packages (from requests->torch_geometric) (3.4.1)\n",
            "Requirement already satisfied: idna<4,>=2.5 in c:\\users\\20182672\\appdata\\local\\anaconda3\\envs\\mlengineering\\lib\\site-packages (from requests->torch_geometric) (3.10)\n",
            "Requirement already satisfied: urllib3<3,>=1.21.1 in c:\\users\\20182672\\appdata\\local\\anaconda3\\envs\\mlengineering\\lib\\site-packages (from requests->torch_geometric) (2.3.0)\n",
            "Requirement already satisfied: certifi>=2017.4.17 in c:\\users\\20182672\\appdata\\local\\anaconda3\\envs\\mlengineering\\lib\\site-packages (from requests->torch_geometric) (2025.4.26)\n",
            "Requirement already satisfied: colorama in c:\\users\\20182672\\appdata\\roaming\\python\\python312\\site-packages (from tqdm->torch_geometric) (0.4.6)\n"
          ]
        },
        {
          "name": "stderr",
          "output_type": "stream",
          "text": [
            "\n",
            "[notice] A new release of pip is available: 25.0.1 -> 25.1.1\n",
            "[notice] To update, run: python.exe -m pip install --upgrade pip\n"
          ]
        },
        {
          "name": "stdout",
          "output_type": "stream",
          "text": [
            "Looking in links: https://data.pyg.org/whl/torch-2.6.0+cu124.html"
          ]
        },
        {
          "name": "stderr",
          "output_type": "stream",
          "text": [
            "\n",
            "[notice] A new release of pip is available: 25.0.1 -> 25.1.1\n",
            "[notice] To update, run: python.exe -m pip install --upgrade pip\n"
          ]
        },
        {
          "name": "stdout",
          "output_type": "stream",
          "text": [
            "\n",
            "Requirement already satisfied: torch_scatter in c:\\users\\20182672\\appdata\\local\\anaconda3\\envs\\mlengineering\\lib\\site-packages (2.1.2+pt26cu124)\n",
            "Requirement already satisfied: torch_sparse in c:\\users\\20182672\\appdata\\local\\anaconda3\\envs\\mlengineering\\lib\\site-packages (0.6.18+pt26cu124)\n",
            "Requirement already satisfied: torch_cluster in c:\\users\\20182672\\appdata\\local\\anaconda3\\envs\\mlengineering\\lib\\site-packages (1.6.3+pt26cu124)\n",
            "Requirement already satisfied: torch_spline_conv in c:\\users\\20182672\\appdata\\local\\anaconda3\\envs\\mlengineering\\lib\\site-packages (1.2.2+pt26cu124)\n",
            "Requirement already satisfied: scipy in c:\\users\\20182672\\appdata\\local\\anaconda3\\envs\\mlengineering\\lib\\site-packages (from torch_sparse) (1.15.2)\n",
            "Requirement already satisfied: numpy<2.5,>=1.23.5 in c:\\users\\20182672\\appdata\\local\\anaconda3\\envs\\mlengineering\\lib\\site-packages (from scipy->torch_sparse) (1.26.4)\n"
          ]
        }
      ],
      "source": [
        "!pip install rdkit\n",
        "!pip install torch_geometric\n",
        "!pip install torch_scatter torch_sparse torch_cluster torch_spline_conv -f https://data.pyg.org/whl/torch-2.6.0+cu124.html"
      ]
    },
    {
      "cell_type": "code",
      "execution_count": null,
      "metadata": {
        "id": "WVL2eo0g_Iuv"
      },
      "outputs": [],
      "source": [
        "import pickle\n",
        "import numpy as np\n",
        "from rdkit import Chem\n",
        "from rdkit.Chem import Draw, AllChem\n",
        "from rdkit import RDLogger\n",
        "RDLogger.DisableLog('rdApp.*')\n",
        "import matplotlib.pyplot as plt\n",
        "\n",
        "#added by user\n",
        "import torch\n",
        "from torch_geometric.data import Data\n",
        "from torch.utils.data import DataLoader\n",
        "from sklearn.model_selection import train_test_split\n",
        "from torch.utils.data import Dataset\n",
        "import torch.nn as nn\n",
        "import torch.nn.functional as F\n",
        "import pytorch_lightning as pl\n",
        "import math"
      ]
    },
    {
      "cell_type": "code",
      "execution_count": 55,
      "metadata": {
        "id": "H8rvaK56_iQ7"
      },
      "outputs": [],
      "source": [
        "with open('pos_data.pkl', 'rb') as f:\n",
        "    pos_data = pickle.load(f)\n",
        "\n",
        "with open('type_data.pkl', 'rb') as f:\n",
        "    type_data = pickle.load(f)\n",
        "\n",
        "with open('smiles.pkl', 'rb') as f:\n",
        "    smiles_data = pickle.load(f)\n",
        "\n",
        "data_split = np.load('data_split.npz')\n",
        "\n",
        "train_idxes = data_split['train_idx']\n",
        "test_idxes = data_split['test_idx']\n",
        "\n",
        "formation_energy = np.load('formation_energy.npz')\n",
        "\n",
        "fe = formation_energy['y'] # normalized formation energy\n",
        "mu = formation_energy['mu']\n",
        "std = formation_energy['sigma']"
      ]
    },
    {
      "cell_type": "code",
      "execution_count": 56,
      "metadata": {
        "id": "DIsGRQcxA_4Q"
      },
      "outputs": [
        {
          "name": "stdout",
          "output_type": "stream",
          "text": [
            "Length of data\n",
            "pos_data: 129012, type_data: 129012, smiles: 129012\n",
            "Idxes\n",
            "train: 119012, test: 10000, sum: 129012\n",
            "5\n"
          ]
        },
        {
          "data": {
            "image/png": "[encoded data removed]",
            "text/plain": [
              "<Figure size 1000x500 with 1 Axes>"
            ]
          },
          "metadata": {},
          "output_type": "display_data"
        },
        {
          "name": "stdout",
          "output_type": "stream",
          "text": [
            "Maximum formation energy: 6.49253511428833\n",
            "Minimum formation energy: -3.5815374851226807\n"
          ]
        }
      ],
      "source": [
        "# shapes of lists\n",
        "print(\"Length of data\")\n",
        "print(f\"pos_data: {len(pos_data)}, type_data: {len(type_data)}, smiles: {len(smiles_data)}\")\n",
        "print(\"Idxes\")\n",
        "print(f\"train: {len(train_idxes)}, test: {len(test_idxes)}, sum: {len(train_idxes) + len(test_idxes)}\")\n",
        "# print statements\n",
        "print(pos_data[0].shape[0])\n",
        "\n",
        "# Visualize fe\n",
        "plt.figure(figsize=(10, 5))\n",
        "plt.hist(fe, bins=50, color='blue', alpha=0.7)\n",
        "plt.title('Distribution of Formation Energy')\n",
        "plt.xlabel('Normalized Formation Energy')\n",
        "plt.ylabel('Frequency')\n",
        "plt.grid()\n",
        "plt.show()\n",
        "print(f\"Maximum formation energy: {np.max(fe)}\")\n",
        "print(f\"Minimum formation energy: {np.min(fe)}\")\n"
      ]
    },
    {
      "cell_type": "code",
      "execution_count": null,
      "metadata": {},
      "outputs": [
        {
          "name": "stdout",
          "output_type": "stream",
          "text": [
            "Number of unique atom types: 5\n",
            "Unique atom types: [1 6 7 8 9]\n",
            "Updated number of atom types: 5\n"
          ]
        }
      ],
      "source": [
        "# Flatten the list of atom types and find unique values\n",
        "unique_atom_types = np.unique(np.concatenate(type_data))\n",
        "\n",
        "print(f\"Number of unique atom types: {len(unique_atom_types)}\")\n",
        "print(f\"Unique atom types: {unique_atom_types}\")\n",
        "\n",
        "# This influence the number of atoms types\n",
        "atom_type_mapping = {1: 0, 6: 1, 7: 2, 8: 3, 9: 4}\n",
        "type_data_mapped = [\n",
        "    torch.tensor([atom_type_mapping[atom.item()] for atom in molecule], dtype=torch.long)\n",
        "    for molecule in type_data\n",
        "]\n",
        "\n",
        "# Update num_atom_types\n",
        "num_atom_types = len(atom_type_mapping)\n",
        "print(f\"Updated number of atom types: {num_atom_types}\")\n",
        "\n",
        "# We want to create embeddings fo each atom type, since we thus only have five we must adjust the indexing such that the embedding can do that. \n",
        "# Originally setting at 5 would give an out of bound error because of the index."
      ]
    },
    {
      "cell_type": "code",
      "execution_count": 91,
      "metadata": {
        "id": "bVDJF7I3BFa2"
      },
      "outputs": [],
      "source": [
        "def at_number_to_atom_name(at_number):\n",
        "    if at_number == 6:\n",
        "        return 'C'\n",
        "    elif at_number == 1:\n",
        "        return 'H'\n",
        "    elif at_number == 7:\n",
        "        return 'N'\n",
        "    elif at_number == 8:\n",
        "        return 'O'\n",
        "    elif at_number == 9:\n",
        "        return 'F'\n",
        "    elif at_number == 16:\n",
        "        return 'S'\n",
        "    else:\n",
        "        return 'Unknown'\n",
        "\n",
        "def inspect_structure(idx):\n",
        "    smile = smiles_data[idx]\n",
        "    pos = pos_data[idx]\n",
        "    typ = type_data[idx]\n",
        "\n",
        "    header = f\"{'Atom':^5}│{'Number':^6}│{'x':^10}│{'y':^10}│{'z':^10}\"\n",
        "    line   = \"─────┼──────┼──────────┼──────────┼──────────\"\n",
        "    print(header)\n",
        "    print(line)\n",
        "\n",
        "    for atom_num, (x, y, z) in zip(typ, pos):\n",
        "        atom_sym = at_number_to_atom_name(atom_num)\n",
        "        print(f\"{atom_sym:^5}│{atom_num:^6}│{x:>10.3f}│{y:>10.3f}│{z:>10.3f}\")\n",
        "    print(\"\")\n",
        "    print(\"\")\n",
        "    print(f'SMILE: {smile}')\n",
        "    print(\"\")\n",
        "    print(\"\")\n",
        "    print(f'Formation Energy: {fe[idx]*std + mu:.3f}')\n",
        "    print(f'Formation Energy (normalized): {fe[idx]:.5f}')\n",
        "    mol = Chem.MolFromSmiles(smile)\n",
        "    if mol:\n",
        "        # RDKit prefers 2‑D coordinates for nice depictions\n",
        "        Chem.AllChem.Compute2DCoords(mol)\n",
        "        img = Draw.MolToImage(mol, size=(300, 300))\n",
        "\n",
        "        # Display with matplotlib (works both in notebooks and scripts)\n",
        "        plt.figure(figsize=(3, 3))\n",
        "        plt.axis('off')\n",
        "        plt.imshow(img)\n",
        "        plt.show()"
      ]
    },
    {
      "cell_type": "code",
      "execution_count": 92,
      "metadata": {
        "id": "K1rs7hhCC4oq"
      },
      "outputs": [
        {
          "name": "stdout",
          "output_type": "stream",
          "text": [
            "Atom │Number│    x     │    y     │    z     \n",
            "─────┼──────┼──────────┼──────────┼──────────\n",
            "  C  │  6   │    -0.061│     1.442│     0.055\n",
            "  N  │  7   │     0.012│    -0.006│    -0.028\n",
            "  C  │  6   │    -1.262│    -0.708│    -0.100\n",
            "  C  │  6   │    -1.061│    -2.162│    -0.507\n",
            "  C  │  6   │     0.112│    -2.709│     0.285\n",
            "  O  │  8   │     1.294│    -1.960│    -0.000\n",
            "  C  │  6   │     1.254│    -0.598│    -0.019\n",
            "  O  │  8   │     2.294│     0.015│    -0.041\n",
            "  H  │  1   │     0.951│     1.836│     0.126\n",
            "  H  │  1   │    -0.551│     1.857│    -0.835\n",
            "  H  │  1   │    -0.638│     1.750│     0.937\n",
            "  H  │  1   │    -1.773│    -0.655│     0.875\n",
            "  H  │  1   │    -1.906│    -0.189│    -0.821\n",
            "  H  │  1   │    -1.969│    -2.740│    -0.312\n",
            "  H  │  1   │    -0.836│    -2.233│    -1.576\n",
            "  H  │  1   │    -0.095│    -2.672│     1.364\n",
            "  H  │  1   │     0.350│    -3.741│     0.019\n",
            "\n",
            "\n",
            "SMILE: CN1CCCOC1=O\n",
            "\n",
            "\n",
            "Formation Energy: -70.755\n",
            "Formation Energy (normalized): 0.52656\n"
          ]
        },
        {
          "data": {
            "image/png": "[encoded data removed]",
            "text/plain": [
              "<Figure size 300x300 with 1 Axes>"
            ]
          },
          "metadata": {},
          "output_type": "display_data"
        }
      ],
      "source": [
        "# methane\n",
        "# Note how methane has a relatively high formation energy (compared to QM9)\n",
        "# This correlates with lower thermodynamic stability and higher reactivity\n",
        "# For example, methane readily burns in oxygen (CH₄ + 2O₂ → CO₂ + 2H₂O)\n",
        "inspect_structure(12000)"
      ]
    },
    {
      "cell_type": "code",
      "execution_count": 93,
      "metadata": {
        "id": "vo8hYLuQCeBR"
      },
      "outputs": [
        {
          "name": "stdout",
          "output_type": "stream",
          "text": [
            "Atom │Number│    x     │    y     │    z     \n",
            "─────┼──────┼──────────┼──────────┼──────────\n",
            "  C  │  6   │     0.453│     1.609│     0.102\n",
            "  C  │  6   │    -0.066│     0.198│    -0.086\n",
            "  C  │  6   │     0.481│    -0.639│    -1.263\n",
            "  C  │  6   │     0.970│    -1.603│    -0.169\n",
            "  C  │  6   │     0.547│    -3.090│    -0.148\n",
            "  N  │  7   │     1.920│    -3.444│    -0.560\n",
            "  C  │  6   │     2.521│    -4.635│    -0.004\n",
            "  C  │  6   │     2.419│    -2.129│    -0.112\n",
            "  O  │  8   │     0.506│    -0.735│     0.870\n",
            "  H  │  1   │     1.544│     1.636│     0.015\n",
            "  H  │  1   │     0.026│     2.278│    -0.653\n",
            "  H  │  1   │     0.178│     1.989│     1.091\n",
            "  H  │  1   │    -1.162│     0.186│    -0.014\n",
            "  H  │  1   │    -0.259│    -1.043│    -1.956\n",
            "  H  │  1   │     1.280│    -0.154│    -1.830\n",
            "  H  │  1   │     0.301│    -3.397│     0.882\n",
            "  H  │  1   │    -0.247│    -3.423│    -0.827\n",
            "  H  │  1   │     1.989│    -5.522│    -0.362\n",
            "  H  │  1   │     3.563│    -4.714│    -0.332\n",
            "  H  │  1   │     2.509│    -4.651│     1.103\n",
            "  H  │  1   │     3.172│    -1.666│    -0.760\n",
            "  H  │  1   │     2.780│    -2.124│     0.930\n",
            "\n",
            "\n",
            "SMILE: C[C@H]1C[C@]2(C[N@H+](C)C2)O1\n",
            "\n",
            "\n",
            "Formation Energy: -88.032\n",
            "Formation Energy (normalized): -1.14906\n"
          ]
        },
        {
          "data": {
            "image/png": "[encoded data removed]",
            "text/plain": [
              "<Figure size 300x300 with 1 Axes>"
            ]
          },
          "metadata": {},
          "output_type": "display_data"
        }
      ],
      "source": [
        "# random structure\n",
        "inspect_structure(np.random.choice(range(len(smiles_data))))"
      ]
    },
    {
      "cell_type": "code",
      "execution_count": null,
      "metadata": {},
      "outputs": [
        {
          "name": "stdout",
          "output_type": "stream",
          "text": [
            "Maximum number of atoms in pos_data: 29\n"
          ]
        }
      ],
      "source": [
        "# For the pos data check max amount of atoms. Might be relevant for hyperparameters but do not know that yet. \n",
        "def max_atoms_in_pos_data():\n",
        "    max_atoms = 0\n",
        "    for pos in pos_data:\n",
        "        if pos.shape[0] > max_atoms:\n",
        "            max_atoms = pos.shape[0]\n",
        "    return max_atoms\n",
        "\n",
        "print(f\"Maximum number of atoms in pos_data: {max_atoms_in_pos_data()}\")"
      ]
    },
    {
      "cell_type": "markdown",
      "metadata": {
        "id": "76MeHNQ_Gd9t"
      },
      "source": [
        "## Task 1"
      ]
    },
    {
      "cell_type": "code",
      "execution_count": null,
      "metadata": {
        "id": "Lv736iffCez4"
      },
      "outputs": [],
      "source": [
        "# This I have not checked yet. The code seems to work fine. The cutoff in literature is most about A something.\n",
        "def build_edges_molecule(positions, cutoff):\n",
        "    \"\"\"\n",
        "    Given a single molecule's atom positions (Nx3 tensor or list of N 3D coords),\n",
        "    returns edge_index suitable for SchNet input.\n",
        "    \"\"\"\n",
        "    if not isinstance(positions, torch.Tensor):\n",
        "        positions = torch.tensor(positions, dtype=torch.float32)\n",
        "\n",
        "    num_atoms = positions.size(0) # positions is here the molecule and those the shape of the tensor\n",
        "    list_from = []\n",
        "    list_to = []\n",
        "\n",
        "    for i in range(num_atoms):\n",
        "        for j in range(num_atoms):\n",
        "            if i == j:\n",
        "                continue\n",
        "            dist = torch.norm(positions[i] - positions[j])\n",
        "            if dist < cutoff:\n",
        "                list_from.append(i)\n",
        "                list_to.append(j)\n",
        "\n",
        "    edge_index = torch.tensor([list_from, list_to], dtype=torch.long)\n",
        "    return edge_index\n",
        "\n",
        "def build_edges_all(pos_data, cutoff):\n",
        "    \"\"\"\n",
        "    Build edge indices for all molecules in pos_data\n",
        "    \"\"\"\n",
        "    edge_indices = []\n",
        "\n",
        "    for molecule in pos_data: # each molecule in the pos_data can consists of several atoms (max 29 in data)\n",
        "        edge_index = build_edges_molecule(molecule, cutoff=cutoff)\n",
        "        edge_indices.append(edge_index)\n",
        "\n",
        "    return edge_indices # alist of tensors of shape [2, E] where E is the number of edges in each molecule\n"
      ]
    },
    {
      "cell_type": "code",
      "execution_count": null,
      "metadata": {},
      "outputs": [],
      "source": [
        "# Perform data analysis on build_edges_all for different cutoffs\n",
        "def analyze_edges_by_cutoff(pos_data, cutoffs):\n",
        "    \"\"\"\n",
        "    Performs data analysis on edge creation for a list of cutoffs.\n",
        "    Prints information about the number of edges generated for each cutoff.\n",
        "    \"\"\"\n",
        "    print(\"--- Edge Analysis by Cutoff ---\")\n",
        "    for cutoff in cutoffs:\n",
        "        print(f\"\\nAnalyzing cutoff: {cutoff}\")\n",
        "        edge_counts = []\n",
        "        for molecule_pos in pos_data:\n",
        "            edge_index = build_edges_molecule(molecule_pos, cutoff=cutoff)\n",
        "            edge_counts.append(edge_index.size(1)) # Number of edges is the second dimension\n",
        "\n",
        "        total_edges = sum(edge_counts)\n",
        "        avg_edges_per_molecule = total_edges / len(pos_data)\n",
        "        max_edges_in_molecule = max(edge_counts)\n",
        "\n",
        "        print(f\"  Total number of edges across all molecules: {total_edges}\")\n",
        "        print(f\"  Average number of edges per molecule: {avg_edges_per_molecule:.2f}\")\n",
        "        print(f\"  Maximum number of edges in a single molecule: {max_edges_in_molecule}\")\n",
        "\n",
        "# Example usage:\n",
        "# Define a list of cutoffs to analyze\n",
        "cutoffs_to_analyze = [1.0, 1.5, 2.0, 2.5, 3.0] # Example cutoffs\n",
        "\n",
        "# Run the analysis\n",
        "analyze_edges_by_cutoff(pos_data, cutoffs_to_analyze)"
      ]
    },
    {
      "cell_type": "markdown",
      "metadata": {},
      "source": [
        "--- Edge Analysis by Cutoff ---\n",
        "\n",
        "Analyzing cutoff: 1.0\n",
        "  Total number of edges across all molecules: 100632\n",
        "  Average number of edges per molecule: 0.78\n",
        "  Maximum number of edges in a single molecule: 8\n",
        "\n",
        "Analyzing cutoff: 1.5\n",
        "  Total number of edges across all molecules: 3715924\n",
        "  Average number of edges per molecule: 28.80\n",
        "  Maximum number of edges in a single molecule: 46\n",
        "\n",
        "Analyzing cutoff: 2.0\n",
        "  Total number of edges across all molecules: 6122042\n",
        "  Average number of edges per molecule: 47.45\n",
        "  Maximum number of edges in a single molecule: 94\n",
        "\n",
        "Analyzing cutoff: 2.5\n",
        "  Total number of edges across all molecules: 12977958\n",
        "  Average number of edges per molecule: 100.59\n",
        "  Maximum number of edges in a single molecule: 198\n",
        "\n",
        "Based on this I do think that another cutoff might be relevant?"
      ]
    },
    {
      "cell_type": "code",
      "execution_count": 96,
      "metadata": {},
      "outputs": [
        {
          "name": "stderr",
          "output_type": "stream",
          "text": [
            "C:\\Users\\20182672\\AppData\\Local\\Temp\\ipykernel_20964\\3638787805.py:9: UserWarning: To copy construct from a tensor, it is recommended to use sourceTensor.clone().detach() or sourceTensor.clone().detach().requires_grad_(True), rather than torch.tensor(sourceTensor).\n",
            "  pos_data = [torch.tensor(mol, dtype=torch.float32) for mol in pos_data]\n",
            "C:\\Users\\20182672\\AppData\\Local\\Temp\\ipykernel_20964\\3638787805.py:10: UserWarning: To copy construct from a tensor, it is recommended to use sourceTensor.clone().detach() or sourceTensor.clone().detach().requires_grad_(True), rather than torch.tensor(sourceTensor).\n",
            "  type_data = [torch.tensor(mol, dtype=torch.long) for mol in type_data]\n"
          ]
        }
      ],
      "source": [
        "#edge_indices = build_edges_all(pos_data, cutoff=1.5)\n",
        "\n",
        "# Save\n",
        "#torch.save(edge_indices, \"edges.pt\")\n",
        "\n",
        "# Load\n",
        "edge_indices = torch.load(\"edges.pt\")\n",
        "\n",
        "pos_data = [torch.tensor(mol, dtype=torch.float32) for mol in pos_data]\n",
        "type_data = [torch.tensor(mol, dtype=torch.long) for mol in type_data]\n",
        "\n",
        "# Goal of this code is to create for all the three aspects of the data a list of tensors\n",
        "# Think about whether this is correctly used"
      ]
    },
    {
      "cell_type": "code",
      "execution_count": 97,
      "metadata": {},
      "outputs": [
        {
          "name": "stdout",
          "output_type": "stream",
          "text": [
            "Edge indices length: 129012\n"
          ]
        }
      ],
      "source": [
        "# Perform data on edge indices size, shape and type\n",
        "print(f\"Edge indices length: {len(edge_indices)}\")\n",
        "# This makes sense sinc for each molecule we should get a tensor of the edges"
      ]
    },
    {
      "cell_type": "code",
      "execution_count": null,
      "metadata": {},
      "outputs": [],
      "source": [
        "# This is required to convert the data into dataloaders later\n",
        "class MoleculeDataset(torch.utils.data.Dataset):\n",
        "    def __init__(self, atom_types_list, positions_list, edge_indices_list, targets):\n",
        "        self.atom_types_list = atom_types_list\n",
        "        self.positions_list = positions_list\n",
        "        self.edge_indices_list = edge_indices_list\n",
        "        self.targets = targets\n",
        "\n",
        "    def __len__(self):\n",
        "        return len(self.targets)\n",
        "\n",
        "    def __getitem__(self, idx):\n",
        "        return (\n",
        "            self.atom_types_list[idx],\n",
        "            self.positions_list[idx],\n",
        "            self.edge_indices_list[idx],\n",
        "            self.targets[idx],\n",
        "        )\n"
      ]
    },
    {
      "attachments": {
        "image.png": {
          "image/png": "[encoded data removed]"
        }
      },
      "cell_type": "markdown",
      "metadata": {},
      "source": [
        "![image.png](attachment:image.png)"
      ]
    },
    {
      "cell_type": "code",
      "execution_count": 121,
      "metadata": {},
      "outputs": [],
      "source": [
        "# also based upon https://arxiv.org/abs/1706.08566 the original SchNet paper\n",
        "\n",
        "class RBFExpansion(nn.Module):\n",
        "    \"\"\"\n",
        "    Radial Basis Function Expansion is a way to transform distances\n",
        "    into a set of features that can be used in neural networks. The idea is that it must become higher dimensional to be more expressive.\n",
        "    This uses a Gaussian RBF, like in SchNet.\n",
        "    \"\"\"\n",
        "    def __init__(self, num_rbf=300, cutoff=1.5, gamma=10.0):\n",
        "        super().__init__()\n",
        "        centers = torch.linspace(0, cutoff, num_rbf) #create RBF centers, creates num_rbf values from 0 to cutoff\n",
        "        self.register_buffer('centers', centers) #for GPU compatibility\n",
        "        self.gamma = gamma # larger gamma means sharper peaks in the RBF\n",
        "\n",
        "    def forward(self, distances):\n",
        "        return torch.exp(-self.gamma * (distances.unsqueeze(1) - self.centers) ** 2)\n",
        "\n",
        "class ShiftedSoftplus(nn.Module):\n",
        "    def forward(self, x):\n",
        "        return F.softplus(x) - math.log(2)\n",
        "    \n",
        "class ReadoutMLP(nn.Module):\n",
        "    def __init__(self, hidden_dim=64, mid_dim=32):\n",
        "        super().__init__()\n",
        "        self.atom_dense1 = nn.Linear(hidden_dim, mid_dim)  # atom-wise layer\n",
        "        self.activation = ShiftedSoftplus()                # shifted softplus orignal paper could consider SiLU\n",
        "        self.atom_dense2 = nn.Linear(mid_dim, 1)           # atom-wise layer to scalar\n",
        "        self.dropout = nn.Dropout(p=0.2)\n",
        "\n",
        "    def forward(self, h, batch_idx):\n",
        "        # Apply atom-wise layers\n",
        "        h = self.atom_dense1(h)\n",
        "        h = self.activation(h)\n",
        "        #h = self.dropout(h) # added dropout compared to original paper\n",
        "        h = self.atom_dense2(h)\n",
        "        h = h.squeeze(-1)  # ensure h is 1D per atom\n",
        "\n",
        "        # Pooling over atoms to get per-molecule energy\n",
        "        num_graphs = batch_idx.max().item() + 1\n",
        "        energy = torch.zeros(num_graphs, device=h.device)\n",
        "        energy = energy.index_add(0, batch_idx, h)  # sum pooling\n",
        "\n",
        "        return energy\n",
        "\n",
        "class MLP(nn.Module):\n",
        "    \"\"\"\n",
        "    simple Multi-Layer Perceptron (MLP) with Shifted Softplus activations.\n",
        "    \"\"\"\n",
        "    def __init__(self, in_dim, out_dim, hidden_dim=64):\n",
        "        super().__init__()\n",
        "        self.model = nn.Sequential(\n",
        "            nn.Linear(in_dim, hidden_dim),\n",
        "            ShiftedSoftplus(), #based on original paper\n",
        "            nn.Linear(hidden_dim, out_dim),\n",
        "            ShiftedSoftplus(), #based on original paper\n",
        "            #nn.Linear(hidden_dim, out_dim) in orignal paper there is no linear layer after the last actiation\n",
        "        )\n",
        "\n",
        "    def forward(self, x):\n",
        "        return self.model(x)\n",
        "    \n",
        "# This interaction block is updated compared to the previous implementation now the rbf is included in the interaction block each time\n",
        "class InteractionBlock(nn.Module):\n",
        "    def __init__(self, hidden_dim, num_rbf, cutoff):\n",
        "        super().__init__()\n",
        "        self.rbf_layer = RBFExpansion(num_rbf, cutoff)  \n",
        "        self.filter_net = MLP(num_rbf, hidden_dim) # learns filters\n",
        "        self.atom_dense = nn.Linear(hidden_dim, hidden_dim)\n",
        "        self.cutoff = cutoff\n",
        "        self.post_dense1 = nn.Linear(hidden_dim, hidden_dim)\n",
        "        self.activation = ShiftedSoftplus()\n",
        "        self.post_dense2 = nn.Linear(hidden_dim, hidden_dim)\n",
        "        self.dropout = nn.Dropout(p=0.2)\n",
        "\n",
        "    def forward(self, h, edge_index, positions):\n",
        "        # This order of source and target is reversed here\n",
        "        source, target = edge_index # source is j, target is i\n",
        "        distances = torch.norm(positions[source] - positions[target], dim=1)\n",
        "\n",
        "        # Compute RBF and filters\n",
        "        rbf = self.rbf_layer(distances)\n",
        "        f_ij = self.filter_net(rbf) # these are the filters\n",
        "\n",
        "        # Cosine cutoff; consider with or without 0.5 infront\n",
        "        cutoff_weight = 0.5 * torch.cos((torch.pi * distances) / (2 * self.cutoff))\n",
        "\n",
        "        # Message passing from source to target\n",
        "        h_proj = self.atom_dense(h[source])\n",
        "        m_ij = f_ij * h_proj * cutoff_weight.unsqueeze(-1)\n",
        "        #m_ij = f_ij * h_proj # messages\n",
        "\n",
        "        agg = torch.zeros_like(h)\n",
        "        agg.index_add_(0, target, m_ij)\n",
        "\n",
        "        # Atomwise layers\n",
        "        out = self.post_dense1(agg)\n",
        "        out = self.activation(out)\n",
        "        #out = self.dropout(out)\n",
        "        out = self.post_dense2(out)\n",
        "        return h + out\n",
        "\n",
        "\n",
        "class SchNetLightning(pl.LightningModule):\n",
        "    def __init__(self, num_atom_types, hidden_dim=128, num_rbf=64, num_blocks=5, lr=1e-3, cutoff=3.0):\n",
        "        super().__init__()\n",
        "        self.save_hyperparameters()\n",
        "        self.embedding = nn.Embedding(num_atom_types, hidden_dim)\n",
        "        self.interaction_blocks = nn.ModuleList([InteractionBlock(hidden_dim, num_rbf, cutoff) for _ in range(num_blocks)])\n",
        "        self.readout = ReadoutMLP(hidden_dim)\n",
        "        self.lr = lr\n",
        "        self.cutoff = cutoff\n",
        "\n",
        "    def forward(self, atom_types, positions, edge_index, batch_idx):\n",
        "      h = self.embedding(atom_types)\n",
        "      for block in self.interaction_blocks:\n",
        "          h = block(h, edge_index, positions)\n",
        "      return self.readout(h, batch_idx)\n",
        "    \n",
        "    def training_step(self, batch, batch_idx):\n",
        "      atom_types, positions, edge_index, batch_idx, targets = batch\n",
        "      preds = self(atom_types, positions, edge_index, batch_idx)\n",
        "      loss = F.mse_loss(preds, targets)\n",
        "      self.log(\"train_loss\", loss, batch_size=batch_size)\n",
        "      return loss\n",
        "\n",
        "    def validation_step(self, batch, batch_idx):\n",
        "      atom_types, positions, edge_index, batch_idx, targets = batch\n",
        "      preds = self(atom_types, positions, edge_index, batch_idx)\n",
        "      loss = F.mse_loss(preds, targets)\n",
        "      self.log(\"val_loss\", loss, batch_size=batch_size)\n",
        "      return loss\n",
        "    \n",
        "    def configure_optimizers(self):\n",
        "      optimizer = torch.optim.Adam(self.parameters(), lr=self.lr, weight_decay=1e-5)\n",
        "      scheduler = torch.optim.lr_scheduler.ReduceLROnPlateau(\n",
        "        optimizer, mode='min', factor=0.8, patience=3\n",
        "      )\n",
        "      return {\"optimizer\": optimizer, \"lr_scheduler\": {\"scheduler\": scheduler, \"monitor\": \"val_loss\"}}\n",
        "\n",
        "    def on_validation_epoch_end(self):\n",
        "      val_loss = self.trainer.callback_metrics.get(\"val_loss\")\n",
        "      if val_loss is not None:\n",
        "          print(f\"Val Loss   (epoch {self.current_epoch}): {val_loss:.6f}\")\n",
        "\n",
        "    def on_train_epoch_end(self):\n",
        "      train_loss = self.trainer.callback_metrics.get(\"train_loss\")\n",
        "      if train_loss is not None:\n",
        "          print(f\"Train Loss (epoch {self.current_epoch}): {train_loss:.6f}\")\n"
      ]
    },
    {
      "cell_type": "code",
      "execution_count": null,
      "metadata": {},
      "outputs": [],
      "source": [
        "batch_size = 128\n",
        "\n",
        "#batch function works poorly when data has different lengths, so we need to collate it manually\n",
        "def collate_fn(batch):\n",
        "    atom_types_list, pos_list, edge_idx_list, targets_list = zip(*batch)\n",
        "\n",
        "    atom_types_all = []\n",
        "    positions_all = []\n",
        "    edge_indices_all = []\n",
        "    base_index = 0\n",
        "    batch_idx = []\n",
        "\n",
        "    for i, (atom_types, pos, edge_idx) in enumerate(zip(atom_types_list, pos_list, edge_idx_list)):\n",
        "        n_atoms = atom_types.size(0)\n",
        "\n",
        "        atom_types_all.append(atom_types)\n",
        "        positions_all.append(pos)\n",
        "        batch_idx.append(torch.full((n_atoms,), i, dtype=torch.long))  # keeps track of molecule\n",
        "\n",
        "        edge_indices_all.append(edge_idx + base_index)  # shift edge indices for batching\n",
        "        base_index += n_atoms\n",
        "\n",
        "    atom_types_all = torch.cat(atom_types_all)\n",
        "    positions_all = torch.cat(positions_all)\n",
        "    edge_indices_all = torch.cat(edge_indices_all, dim=1)\n",
        "    batch_idx = torch.cat(batch_idx)\n",
        "    targets = torch.stack(targets_list)\n",
        "\n",
        "    return atom_types_all, positions_all, edge_indices_all, batch_idx, targets\n",
        "\n",
        "\n",
        "train_idx, val_idx = train_test_split(train_idxes, test_size=0.2, random_state=0)\n",
        "\n",
        "# train_dataset = MoleculeDataset(\n",
        "#     [type_data[i] for i in train_idx],\n",
        "#     [pos_data[i] for i in train_idx],\n",
        "#     [edge_indices[i] for i in train_idx],\n",
        "#     torch.tensor([fe[i] for i in train_idx], dtype=torch.float32)\n",
        "# )\n",
        "\n",
        "# val_dataset = MoleculeDataset(\n",
        "#     [type_data[i] for i in val_idx],\n",
        "#     [pos_data[i] for i in val_idx],\n",
        "#     [edge_indices[i] for i in val_idx],\n",
        "#     torch.tensor([fe[i] for i in val_idx], dtype=torch.float32)\n",
        "# )\n",
        "\n",
        "# test_dataset = MoleculeDataset(\n",
        "#     [type_data[i] for i in test_idxes],\n",
        "#     [pos_data[i] for i in test_idxes],\n",
        "#     [edge_indices[i] for i in test_idxes],\n",
        "#     torch.tensor([fe[i] for i in test_idxes], dtype=torch.float32)\n",
        "# )\n",
        "\n",
        "# New form of the type_data_mapped should be correct but still feel a bit uncertain about it\n",
        "train_dataset = MoleculeDataset(\n",
        "    [type_data_mapped[i] for i in train_idx],\n",
        "    [pos_data[i] for i in train_idx],\n",
        "    [edge_indices[i] for i in train_idx],\n",
        "    torch.tensor([fe[i] for i in train_idx], dtype=torch.float32)\n",
        ")\n",
        "\n",
        "val_dataset = MoleculeDataset(\n",
        "    [type_data_mapped[i] for i in val_idx],\n",
        "    [pos_data[i] for i in val_idx],\n",
        "    [edge_indices[i] for i in val_idx],\n",
        "    torch.tensor([fe[i] for i in val_idx], dtype=torch.float32)\n",
        ")\n",
        "\n",
        "test_dataset = MoleculeDataset(\n",
        "    [type_data_mapped[i] for i in test_idxes],\n",
        "    [pos_data[i] for i in test_idxes],\n",
        "    [edge_indices[i] for i in test_idxes],\n",
        "    torch.tensor([fe[i] for i in test_idxes], dtype=torch.float32)\n",
        ")\n",
        "\n",
        "train_loader = DataLoader(train_dataset, batch_size=batch_size, shuffle=True, collate_fn=collate_fn)\n",
        "val_loader = DataLoader(val_dataset, batch_size=batch_size, shuffle=False, collate_fn=collate_fn)\n",
        "test_loader  = DataLoader(test_dataset, batch_size=batch_size, shuffle=False, collate_fn=collate_fn)\n"
      ]
    },
    {
      "cell_type": "code",
      "execution_count": 114,
      "metadata": {},
      "outputs": [],
      "source": [
        "# List of hyperparameters\n",
        "\n",
        "hidden_dim = 128\n",
        "num_rbf = 64 # in origal it was rbf300\n",
        "num_blocks = 5\n",
        "cutoff = 1.5 # it does not make sen to change the cutoff as long as i dont rerun the edge code\n",
        "lr = 1e-4\n",
        "weight_decay = 1e-6\n",
        "max_epochs = 50\n",
        "patience = 5\n",
        "#num_atom_types = 10 # based on 5 unique atoms\n",
        "gamma = 10.0"
      ]
    },
    {
      "cell_type": "code",
      "execution_count": 115,
      "metadata": {},
      "outputs": [
        {
          "name": "stdout",
          "output_type": "stream",
          "text": [
            "Atom types shape: torch.Size([2300])\n",
            "Position shape: torch.Size([2300, 3])\n",
            "Edge index shape: torch.Size([2, 3544])\n",
            "Batch shape: torch.Size([2300])\n",
            "Targets shape: torch.Size([128])\n",
            "Atom types unique: tensor([0, 1, 2, 3, 4])\n"
          ]
        }
      ],
      "source": [
        "sample = next(iter(train_loader))\n",
        "atom_types, pos, edge_idx, batch, targets = sample\n",
        "\n",
        "print(\"Atom types shape:\", atom_types.shape)\n",
        "print(\"Position shape:\", pos.shape)\n",
        "print(\"Edge index shape:\", edge_idx.shape)\n",
        "print(\"Batch shape:\", batch.shape)\n",
        "print(\"Targets shape:\", targets.shape)\n",
        "\n",
        "print(\"Atom types unique:\", atom_types.unique())\n",
        "assert atom_types.max() < num_atom_types, \"Found invalid atom type index!\"\n"
      ]
    },
    {
      "cell_type": "code",
      "execution_count": 116,
      "metadata": {},
      "outputs": [
        {
          "name": "stderr",
          "output_type": "stream",
          "text": [
            "Using default `ModelCheckpoint`. Consider installing `litmodels` package to enable `LitModelCheckpoint` for automatic upload to the Lightning model registry.\n",
            "GPU available: False, used: False\n",
            "TPU available: False, using: 0 TPU cores\n",
            "HPU available: False, using: 0 HPUs\n",
            "\n",
            "  | Name               | Type       | Params | Mode \n",
            "----------------------------------------------------------\n",
            "0 | embedding          | Embedding  | 640    | train\n",
            "1 | interaction_blocks | ModuleList | 310 K  | train\n",
            "2 | readout            | ReadoutMLP | 4.2 K  | train\n",
            "----------------------------------------------------------\n",
            "314 K     Trainable params\n",
            "0         Non-trainable params\n",
            "314 K     Total params\n",
            "1.260     Total estimated model params size (MB)\n",
            "72        Modules in train mode\n",
            "0         Modules in eval mode\n"
          ]
        },
        {
          "data": {
            "application/vnd.jupyter.widget-view+json": {
              "model_id": "be51b1434bab476696ee3ce5bdf5aa68",
              "version_major": 2,
              "version_minor": 0
            },
            "text/plain": [
              "Sanity Checking: |          | 0/? [00:00<?, ?it/s]"
            ]
          },
          "metadata": {},
          "output_type": "display_data"
        },
        {
          "name": "stderr",
          "output_type": "stream",
          "text": [
            "c:\\Users\\20182672\\AppData\\Local\\anaconda3\\envs\\MLEngineering\\Lib\\site-packages\\pytorch_lightning\\trainer\\connectors\\data_connector.py:425: The 'val_dataloader' does not have many workers which may be a bottleneck. Consider increasing the value of the `num_workers` argument` to `num_workers=7` in the `DataLoader` to improve performance.\n"
          ]
        },
        {
          "name": "stdout",
          "output_type": "stream",
          "text": [
            "Val Loss   (epoch 0): 3.316980\n"
          ]
        },
        {
          "name": "stderr",
          "output_type": "stream",
          "text": [
            "c:\\Users\\20182672\\AppData\\Local\\anaconda3\\envs\\MLEngineering\\Lib\\site-packages\\pytorch_lightning\\trainer\\connectors\\data_connector.py:425: The 'train_dataloader' does not have many workers which may be a bottleneck. Consider increasing the value of the `num_workers` argument` to `num_workers=7` in the `DataLoader` to improve performance.\n"
          ]
        },
        {
          "data": {
            "application/vnd.jupyter.widget-view+json": {
              "model_id": "c39c11842a78400785957ab97b4eb066",
              "version_major": 2,
              "version_minor": 0
            },
            "text/plain": [
              "Training: |          | 0/? [00:00<?, ?it/s]"
            ]
          },
          "metadata": {},
          "output_type": "display_data"
        },
        {
          "data": {
            "application/vnd.jupyter.widget-view+json": {
              "model_id": "5ba6950e362d49d686b537f163d54657",
              "version_major": 2,
              "version_minor": 0
            },
            "text/plain": [
              "Validation: |          | 0/? [00:00<?, ?it/s]"
            ]
          },
          "metadata": {},
          "output_type": "display_data"
        },
        {
          "name": "stderr",
          "output_type": "stream",
          "text": [
            "Metric val_loss improved. New best score: 0.207\n"
          ]
        },
        {
          "name": "stdout",
          "output_type": "stream",
          "text": [
            "Val Loss   (epoch 0): 0.207041\n",
            "Train Loss (epoch 0): 0.210873\n"
          ]
        },
        {
          "data": {
            "application/vnd.jupyter.widget-view+json": {
              "model_id": "7278537bb91a4f98b5e3935df824d270",
              "version_major": 2,
              "version_minor": 0
            },
            "text/plain": [
              "Validation: |          | 0/? [00:00<?, ?it/s]"
            ]
          },
          "metadata": {},
          "output_type": "display_data"
        },
        {
          "name": "stdout",
          "output_type": "stream",
          "text": [
            "Val Loss   (epoch 1): 0.214136\n",
            "Train Loss (epoch 1): 0.190724\n"
          ]
        },
        {
          "data": {
            "application/vnd.jupyter.widget-view+json": {
              "model_id": "0a30de260a4145d9900587a7d074504b",
              "version_major": 2,
              "version_minor": 0
            },
            "text/plain": [
              "Validation: |          | 0/? [00:00<?, ?it/s]"
            ]
          },
          "metadata": {},
          "output_type": "display_data"
        },
        {
          "name": "stdout",
          "output_type": "stream",
          "text": [
            "Val Loss   (epoch 2): 0.212291\n",
            "Train Loss (epoch 2): 0.142621\n"
          ]
        },
        {
          "data": {
            "application/vnd.jupyter.widget-view+json": {
              "model_id": "940f2ad4817c4a88b1e4fb7c1ce32d2a",
              "version_major": 2,
              "version_minor": 0
            },
            "text/plain": [
              "Validation: |          | 0/? [00:00<?, ?it/s]"
            ]
          },
          "metadata": {},
          "output_type": "display_data"
        },
        {
          "name": "stderr",
          "output_type": "stream",
          "text": [
            "Metric val_loss improved by 0.004 >= min_delta = 0.0. New best score: 0.203\n"
          ]
        },
        {
          "name": "stdout",
          "output_type": "stream",
          "text": [
            "Val Loss   (epoch 3): 0.202548\n",
            "Train Loss (epoch 3): 0.191835\n"
          ]
        },
        {
          "data": {
            "application/vnd.jupyter.widget-view+json": {
              "model_id": "bcae33f45ea340ae9d15709ad0aeff5d",
              "version_major": 2,
              "version_minor": 0
            },
            "text/plain": [
              "Validation: |          | 0/? [00:00<?, ?it/s]"
            ]
          },
          "metadata": {},
          "output_type": "display_data"
        },
        {
          "name": "stderr",
          "output_type": "stream",
          "text": [
            "Metric val_loss improved by 0.003 >= min_delta = 0.0. New best score: 0.199\n"
          ]
        },
        {
          "name": "stdout",
          "output_type": "stream",
          "text": [
            "Val Loss   (epoch 4): 0.199196\n",
            "Train Loss (epoch 4): 0.122290\n"
          ]
        },
        {
          "data": {
            "application/vnd.jupyter.widget-view+json": {
              "model_id": "0c2c0f46bc9949879d6fdd5651564249",
              "version_major": 2,
              "version_minor": 0
            },
            "text/plain": [
              "Validation: |          | 0/? [00:00<?, ?it/s]"
            ]
          },
          "metadata": {},
          "output_type": "display_data"
        },
        {
          "name": "stdout",
          "output_type": "stream",
          "text": [
            "Val Loss   (epoch 5): 0.201134\n",
            "Train Loss (epoch 5): 0.115733\n"
          ]
        },
        {
          "data": {
            "application/vnd.jupyter.widget-view+json": {
              "model_id": "a8498388c2e5450483feefd8fb313a50",
              "version_major": 2,
              "version_minor": 0
            },
            "text/plain": [
              "Validation: |          | 0/? [00:00<?, ?it/s]"
            ]
          },
          "metadata": {},
          "output_type": "display_data"
        },
        {
          "name": "stderr",
          "output_type": "stream",
          "text": [
            "Metric val_loss improved by 0.002 >= min_delta = 0.0. New best score: 0.198\n"
          ]
        },
        {
          "name": "stdout",
          "output_type": "stream",
          "text": [
            "Val Loss   (epoch 6): 0.197599\n",
            "Train Loss (epoch 6): 0.183761\n"
          ]
        },
        {
          "data": {
            "application/vnd.jupyter.widget-view+json": {
              "model_id": "37a10441368a46e8be26ad0fb20011b4",
              "version_major": 2,
              "version_minor": 0
            },
            "text/plain": [
              "Validation: |          | 0/? [00:00<?, ?it/s]"
            ]
          },
          "metadata": {},
          "output_type": "display_data"
        },
        {
          "name": "stderr",
          "output_type": "stream",
          "text": [
            "Metric val_loss improved by 0.000 >= min_delta = 0.0. New best score: 0.197\n"
          ]
        },
        {
          "name": "stdout",
          "output_type": "stream",
          "text": [
            "Val Loss   (epoch 7): 0.197318\n",
            "Train Loss (epoch 7): 0.196595\n"
          ]
        },
        {
          "data": {
            "application/vnd.jupyter.widget-view+json": {
              "model_id": "a928df1a574a41d7841fcff24d00f950",
              "version_major": 2,
              "version_minor": 0
            },
            "text/plain": [
              "Validation: |          | 0/? [00:00<?, ?it/s]"
            ]
          },
          "metadata": {},
          "output_type": "display_data"
        },
        {
          "name": "stdout",
          "output_type": "stream",
          "text": [
            "Val Loss   (epoch 8): 0.200300\n",
            "Train Loss (epoch 8): 0.285363\n"
          ]
        },
        {
          "data": {
            "application/vnd.jupyter.widget-view+json": {
              "model_id": "2ef25a9913964a14b167b7f2277ede99",
              "version_major": 2,
              "version_minor": 0
            },
            "text/plain": [
              "Validation: |          | 0/? [00:00<?, ?it/s]"
            ]
          },
          "metadata": {},
          "output_type": "display_data"
        },
        {
          "name": "stdout",
          "output_type": "stream",
          "text": [
            "Val Loss   (epoch 9): 0.198428\n",
            "Train Loss (epoch 9): 0.175154\n"
          ]
        },
        {
          "data": {
            "application/vnd.jupyter.widget-view+json": {
              "model_id": "1fea648b9f4440bdafd35da6f0981ba0",
              "version_major": 2,
              "version_minor": 0
            },
            "text/plain": [
              "Validation: |          | 0/? [00:00<?, ?it/s]"
            ]
          },
          "metadata": {},
          "output_type": "display_data"
        },
        {
          "name": "stdout",
          "output_type": "stream",
          "text": [
            "Val Loss   (epoch 10): 0.200858\n",
            "Train Loss (epoch 10): 0.201534\n"
          ]
        },
        {
          "data": {
            "application/vnd.jupyter.widget-view+json": {
              "model_id": "464409265f064886a194b8008d0e8b8e",
              "version_major": 2,
              "version_minor": 0
            },
            "text/plain": [
              "Validation: |          | 0/? [00:00<?, ?it/s]"
            ]
          },
          "metadata": {},
          "output_type": "display_data"
        },
        {
          "name": "stderr",
          "output_type": "stream",
          "text": [
            "Metric val_loss improved by 0.002 >= min_delta = 0.0. New best score: 0.195\n"
          ]
        },
        {
          "name": "stdout",
          "output_type": "stream",
          "text": [
            "Val Loss   (epoch 11): 0.195235\n",
            "Train Loss (epoch 11): 0.160615\n"
          ]
        },
        {
          "data": {
            "application/vnd.jupyter.widget-view+json": {
              "model_id": "403221bd0044422c89a2094b3038925c",
              "version_major": 2,
              "version_minor": 0
            },
            "text/plain": [
              "Validation: |          | 0/? [00:00<?, ?it/s]"
            ]
          },
          "metadata": {},
          "output_type": "display_data"
        },
        {
          "name": "stdout",
          "output_type": "stream",
          "text": [
            "Val Loss   (epoch 12): 0.197112\n",
            "Train Loss (epoch 12): 0.194768\n"
          ]
        },
        {
          "data": {
            "application/vnd.jupyter.widget-view+json": {
              "model_id": "5c47d9d2298742b0a8da8428f28d0dbf",
              "version_major": 2,
              "version_minor": 0
            },
            "text/plain": [
              "Validation: |          | 0/? [00:00<?, ?it/s]"
            ]
          },
          "metadata": {},
          "output_type": "display_data"
        },
        {
          "name": "stdout",
          "output_type": "stream",
          "text": [
            "Val Loss   (epoch 13): 0.196319\n",
            "Train Loss (epoch 13): 0.149820\n"
          ]
        },
        {
          "data": {
            "application/vnd.jupyter.widget-view+json": {
              "model_id": "585f48f4da4542fdb8772afeb51ebc2c",
              "version_major": 2,
              "version_minor": 0
            },
            "text/plain": [
              "Validation: |          | 0/? [00:00<?, ?it/s]"
            ]
          },
          "metadata": {},
          "output_type": "display_data"
        },
        {
          "name": "stdout",
          "output_type": "stream",
          "text": [
            "Val Loss   (epoch 14): 0.196591\n",
            "Train Loss (epoch 14): 0.219490\n"
          ]
        },
        {
          "data": {
            "application/vnd.jupyter.widget-view+json": {
              "model_id": "1b9564b9753d464ba6437ecf95115b1c",
              "version_major": 2,
              "version_minor": 0
            },
            "text/plain": [
              "Validation: |          | 0/? [00:00<?, ?it/s]"
            ]
          },
          "metadata": {},
          "output_type": "display_data"
        },
        {
          "name": "stdout",
          "output_type": "stream",
          "text": [
            "Val Loss   (epoch 15): 0.202649\n",
            "Train Loss (epoch 15): 0.136230\n"
          ]
        },
        {
          "data": {
            "application/vnd.jupyter.widget-view+json": {
              "model_id": "5ac892c5e6b640e9b04047dfa1bf10fd",
              "version_major": 2,
              "version_minor": 0
            },
            "text/plain": [
              "Validation: |          | 0/? [00:00<?, ?it/s]"
            ]
          },
          "metadata": {},
          "output_type": "display_data"
        },
        {
          "name": "stderr",
          "output_type": "stream",
          "text": [
            "Monitored metric val_loss did not improve in the last 5 records. Best score: 0.195. Signaling Trainer to stop.\n"
          ]
        },
        {
          "name": "stdout",
          "output_type": "stream",
          "text": [
            "Val Loss   (epoch 16): 0.198692\n",
            "Train Loss (epoch 16): 0.059656\n"
          ]
        }
      ],
      "source": [
        "from pytorch_lightning import Trainer\n",
        "from pytorch_lightning.callbacks import EarlyStopping\n",
        "\n",
        "early_stop_callback = EarlyStopping(\n",
        "    monitor='val_loss',      # metric to monitor\n",
        "    patience=patience,              # epochs to wait for improvement\n",
        "    verbose=True,\n",
        "    mode='min'               # minimize the val_loss\n",
        ")\n",
        "\n",
        "trainer = Trainer(\n",
        "    max_epochs=max_epochs,\n",
        "    accelerator='cpu',       # or 'gpu'\n",
        "    callbacks=[early_stop_callback],\n",
        "    enable_progress_bar=True # shows loss after each epoch\n",
        ")\n",
        "model = SchNetLightning(num_atom_types=num_atom_types, hidden_dim=hidden_dim, num_blocks=num_blocks,lr=lr)\n",
        "trainer.fit(model, train_loader, val_loader)\n",
        "\n",
        "\n"
      ]
    },
    {
      "cell_type": "code",
      "execution_count": 117,
      "metadata": {},
      "outputs": [
        {
          "name": "stdout",
          "output_type": "stream",
          "text": [
            "Test MSE loss (original scale): 20.8136\n",
            "Test MAE loss (original scale): 2.5037\n"
          ]
        }
      ],
      "source": [
        "# Set model to evaluation mode\n",
        "model.eval()\n",
        "test_losses = []\n",
        "test_mae = []\n",
        "\n",
        "with torch.no_grad():\n",
        "    for batch in test_loader:\n",
        "        atom_types_all, positions_all, edge_indices_all, batch_idx, targets = batch\n",
        "        preds = model(atom_types_all, positions_all, edge_indices_all, batch_idx)\n",
        "        original_preds = preds * std + mu\n",
        "        original_targets = targets * std + mu\n",
        "        mse_loss = F.mse_loss(original_preds, original_targets)\n",
        "        mae_loss = F.l1_loss(original_preds, original_targets)\n",
        "        \n",
        "        test_losses.append(mse_loss.item())\n",
        "        test_mae.append(mae_loss.item())\n",
        "\n",
        "mean_test_loss = sum(test_losses) / len(test_losses)\n",
        "mean_test_mae = sum(test_mae) / len(test_mae)\n",
        "\n",
        "print(f\"Test MSE loss (original scale): {mean_test_loss:.4f}\")\n",
        "print(f\"Test MAE loss (original scale): {mean_test_mae:.4f}\")"
      ]
    },
    {
      "cell_type": "markdown",
      "metadata": {
        "id": "n0zvKnpLGf9v"
      },
      "source": [
        "## Task 2"
      ]
    },
    {
      "cell_type": "code",
      "execution_count": null,
      "metadata": {},
      "outputs": [],
      "source": []
    },
    {
      "cell_type": "markdown",
      "metadata": {
        "id": "5mIuOY4BGxqU"
      },
      "source": [
        "## Task 3"
      ]
    },
    {
      "cell_type": "code",
      "execution_count": 118,
      "metadata": {
        "id": "z_NgxsO3GxEE"
      },
      "outputs": [],
      "source": [
        "def is_valid_smiles(smiles):\n",
        "    if smiles is None:\n",
        "        return False\n",
        "    try:\n",
        "        mol = Chem.MolFromSmiles(smiles)\n",
        "        return mol is not None\n",
        "    except:\n",
        "        return False\n",
        "\n",
        "def canonicalize(smiles):\n",
        "    try:\n",
        "        mol = Chem.MolFromSmiles(smiles)\n",
        "        if mol:\n",
        "            return Chem.MolToSmiles(mol, canonical=True)\n",
        "        return 'None'\n",
        "    except:\n",
        "        return 'None'"
      ]
    },
    {
      "cell_type": "code",
      "execution_count": 119,
      "metadata": {
        "id": "SN_jGgOwG4kK"
      },
      "outputs": [
        {
          "data": {
            "text/plain": [
              "('COO', 'COO')"
            ]
          },
          "execution_count": 119,
          "metadata": {},
          "output_type": "execute_result"
        }
      ],
      "source": [
        "canonicalize(\"COO\"), canonicalize(\"O(C)O\")"
      ]
    },
    {
      "cell_type": "code",
      "execution_count": 120,
      "metadata": {
        "id": "-bhjYhYrHCuQ"
      },
      "outputs": [
        {
          "data": {
            "text/plain": [
              "(True, True, False)"
            ]
          },
          "execution_count": 120,
          "metadata": {},
          "output_type": "execute_result"
        }
      ],
      "source": [
        "is_valid_smiles(\"COO\"), is_valid_smiles(\"O(C)O\"), is_valid_smiles(\"C##\")"
      ]
    },
    {
      "cell_type": "code",
      "execution_count": null,
      "metadata": {
        "id": "0_YgzDpMH-Vl"
      },
      "outputs": [],
      "source": []
    }
  ],
  "metadata": {
    "colab": {
      "provenance": []
    },
    "kernelspec": {
      "display_name": "MLEngineering",
      "language": "python",
      "name": "python3"
    },
    "language_info": {
      "codemirror_mode": {
        "name": "ipython",
        "version": 3
      },
      "file_extension": ".py",
      "mimetype": "text/x-python",
      "name": "python",
      "nbconvert_exporter": "python",
      "pygments_lexer": "ipython3",
      "version": "3.12.9"
    }
  },
  "nbformat": 4,
  "nbformat_minor": 0
}
