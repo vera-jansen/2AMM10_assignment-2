{
  "cells": [
    {
      "cell_type": "markdown",
      "metadata": {
        "id": "7wv9q_pcGshE"
      },
      "source": [
        "# Assignment 2 2AMM10 2023-2024\n",
        "\n",
        "## Group: [Fill in your group name]\n",
        "### Member 1: [Fill in your name]\n",
        "### Member 2: [Fill in your name]\n",
        "### Member 3: [Fill in your name]"
      ]
    },
    {
      "cell_type": "markdown",
      "metadata": {
        "id": "cQzvuDWw_Eyw"
      },
      "source": [
        "We need to install some specific libraries. The cell below installs torch_geometric for torch 2.6.0+cu124. In case the current version of torch is different, check [here](https://pytorch-geometric.readthedocs.io/en/latest/install/installation.html) to see which versions (of both libraries) you should install. You might also need to install an old version of torch from [here](https://pytorch.org/get-started/previous-versions/)\n",
        "\n",
        "**Note:** Do not install pyg_lib from the optional dependencies"
      ]
    },
    {
      "cell_type": "code",
      "execution_count": 1,
      "metadata": {
        "id": "ibC2lMHfD67H"
      },
      "outputs": [
        {
          "name": "stdout",
          "output_type": "stream",
          "text": [
            "Name: torch\n",
            "Version: 2.6.0\n",
            "Summary: Tensors and Dynamic neural networks in Python with strong GPU acceleration\n",
            "Home-page: https://pytorch.org/\n",
            "Author: PyTorch Team\n",
            "Author-email: packages@pytorch.org\n",
            "License: BSD-3-Clause\n",
            "Location: C:\\Users\\20182672\\AppData\\Local\\anaconda3\\envs\\MLEngineering\\Lib\\site-packages\n",
            "Requires: filelock, fsspec, jinja2, networkx, setuptools, sympy, typing-extensions\n",
            "Required-by: accelerate, flair, openml-pytorch, pytorch-lightning, pytorch_revgrad, torchmetrics, torchvision, transformer-smaller-training-vocab\n"
          ]
        }
      ],
      "source": [
        "!pip show torch"
      ]
    },
    {
      "cell_type": "code",
      "execution_count": 2,
      "metadata": {
        "id": "8qrPQFNe_AJu"
      },
      "outputs": [
        {
          "name": "stdout",
          "output_type": "stream",
          "text": [
            "Requirement already satisfied: rdkit in c:\\users\\20182672\\appdata\\local\\anaconda3\\envs\\mlengineering\\lib\\site-packages (2025.3.2)\n",
            "Requirement already satisfied: numpy in c:\\users\\20182672\\appdata\\local\\anaconda3\\envs\\mlengineering\\lib\\site-packages (from rdkit) (1.26.4)\n",
            "Requirement already satisfied: Pillow in c:\\users\\20182672\\appdata\\local\\anaconda3\\envs\\mlengineering\\lib\\site-packages (from rdkit) (10.4.0)\n"
          ]
        },
        {
          "name": "stderr",
          "output_type": "stream",
          "text": [
            "\n",
            "[notice] A new release of pip is available: 25.0.1 -> 25.1.1\n",
            "[notice] To update, run: python.exe -m pip install --upgrade pip\n"
          ]
        },
        {
          "name": "stdout",
          "output_type": "stream",
          "text": [
            "Requirement already satisfied: torch_geometric in c:\\users\\20182672\\appdata\\local\\anaconda3\\envs\\mlengineering\\lib\\site-packages (2.6.1)\n",
            "Requirement already satisfied: aiohttp in c:\\users\\20182672\\appdata\\local\\anaconda3\\envs\\mlengineering\\lib\\site-packages (from torch_geometric) (3.11.14)\n",
            "Requirement already satisfied: fsspec in c:\\users\\20182672\\appdata\\local\\anaconda3\\envs\\mlengineering\\lib\\site-packages (from torch_geometric) (2025.3.0)\n",
            "Requirement already satisfied: jinja2 in c:\\users\\20182672\\appdata\\local\\anaconda3\\envs\\mlengineering\\lib\\site-packages (from torch_geometric) (3.1.6)\n",
            "Requirement already satisfied: numpy in c:\\users\\20182672\\appdata\\local\\anaconda3\\envs\\mlengineering\\lib\\site-packages (from torch_geometric) (1.26.4)\n",
            "Requirement already satisfied: psutil>=5.8.0 in c:\\users\\20182672\\appdata\\local\\anaconda3\\envs\\mlengineering\\lib\\site-packages (from torch_geometric) (7.0.0)\n",
            "Requirement already satisfied: pyparsing in c:\\users\\20182672\\appdata\\local\\anaconda3\\envs\\mlengineering\\lib\\site-packages (from torch_geometric) (3.2.3)\n",
            "Requirement already satisfied: requests in c:\\users\\20182672\\appdata\\local\\anaconda3\\envs\\mlengineering\\lib\\site-packages (from torch_geometric) (2.32.3)\n",
            "Requirement already satisfied: tqdm in c:\\users\\20182672\\appdata\\local\\anaconda3\\envs\\mlengineering\\lib\\site-packages (from torch_geometric) (4.67.1)\n",
            "Requirement already satisfied: aiohappyeyeballs>=2.3.0 in c:\\users\\20182672\\appdata\\local\\anaconda3\\envs\\mlengineering\\lib\\site-packages (from aiohttp->torch_geometric) (2.6.1)\n",
            "Requirement already satisfied: aiosignal>=1.1.2 in c:\\users\\20182672\\appdata\\local\\anaconda3\\envs\\mlengineering\\lib\\site-packages (from aiohttp->torch_geometric) (1.3.2)\n",
            "Requirement already satisfied: attrs>=17.3.0 in c:\\users\\20182672\\appdata\\local\\anaconda3\\envs\\mlengineering\\lib\\site-packages (from aiohttp->torch_geometric) (25.1.0)\n",
            "Requirement already satisfied: frozenlist>=1.1.1 in c:\\users\\20182672\\appdata\\local\\anaconda3\\envs\\mlengineering\\lib\\site-packages (from aiohttp->torch_geometric) (1.5.0)\n",
            "Requirement already satisfied: multidict<7.0,>=4.5 in c:\\users\\20182672\\appdata\\local\\anaconda3\\envs\\mlengineering\\lib\\site-packages (from aiohttp->torch_geometric) (6.2.0)\n",
            "Requirement already satisfied: propcache>=0.2.0 in c:\\users\\20182672\\appdata\\local\\anaconda3\\envs\\mlengineering\\lib\\site-packages (from aiohttp->torch_geometric) (0.3.0)\n",
            "Requirement already satisfied: yarl<2.0,>=1.17.0 in c:\\users\\20182672\\appdata\\local\\anaconda3\\envs\\mlengineering\\lib\\site-packages (from aiohttp->torch_geometric) (1.18.3)\n",
            "Requirement already satisfied: MarkupSafe>=2.0 in c:\\users\\20182672\\appdata\\local\\anaconda3\\envs\\mlengineering\\lib\\site-packages (from jinja2->torch_geometric) (3.0.2)\n",
            "Requirement already satisfied: charset-normalizer<4,>=2 in c:\\users\\20182672\\appdata\\local\\anaconda3\\envs\\mlengineering\\lib\\site-packages (from requests->torch_geometric) (3.4.1)\n",
            "Requirement already satisfied: idna<4,>=2.5 in c:\\users\\20182672\\appdata\\local\\anaconda3\\envs\\mlengineering\\lib\\site-packages (from requests->torch_geometric) (3.10)\n",
            "Requirement already satisfied: urllib3<3,>=1.21.1 in c:\\users\\20182672\\appdata\\local\\anaconda3\\envs\\mlengineering\\lib\\site-packages (from requests->torch_geometric) (2.3.0)\n",
            "Requirement already satisfied: certifi>=2017.4.17 in c:\\users\\20182672\\appdata\\local\\anaconda3\\envs\\mlengineering\\lib\\site-packages (from requests->torch_geometric) (2025.4.26)\n",
            "Requirement already satisfied: colorama in c:\\users\\20182672\\appdata\\roaming\\python\\python312\\site-packages (from tqdm->torch_geometric) (0.4.6)\n"
          ]
        },
        {
          "name": "stderr",
          "output_type": "stream",
          "text": [
            "\n",
            "[notice] A new release of pip is available: 25.0.1 -> 25.1.1\n",
            "[notice] To update, run: python.exe -m pip install --upgrade pip\n"
          ]
        },
        {
          "name": "stdout",
          "output_type": "stream",
          "text": [
            "Looking in links: https://data.pyg.org/whl/torch-2.6.0+cu124.html\n",
            "Requirement already satisfied: torch_scatter in c:\\users\\20182672\\appdata\\local\\anaconda3\\envs\\mlengineering\\lib\\site-packages (2.1.2+pt26cu124)\n",
            "Requirement already satisfied: torch_sparse in c:\\users\\20182672\\appdata\\local\\anaconda3\\envs\\mlengineering\\lib\\site-packages (0.6.18+pt26cu124)\n",
            "Requirement already satisfied: torch_cluster in c:\\users\\20182672\\appdata\\local\\anaconda3\\envs\\mlengineering\\lib\\site-packages (1.6.3+pt26cu124)\n",
            "Requirement already satisfied: torch_spline_conv in c:\\users\\20182672\\appdata\\local\\anaconda3\\envs\\mlengineering\\lib\\site-packages (1.2.2+pt26cu124)\n",
            "Requirement already satisfied: scipy in c:\\users\\20182672\\appdata\\local\\anaconda3\\envs\\mlengineering\\lib\\site-packages (from torch_sparse) (1.15.2)\n",
            "Requirement already satisfied: numpy<2.5,>=1.23.5 in c:\\users\\20182672\\appdata\\local\\anaconda3\\envs\\mlengineering\\lib\\site-packages (from scipy->torch_sparse) (1.26.4)\n"
          ]
        },
        {
          "name": "stderr",
          "output_type": "stream",
          "text": [
            "\n",
            "[notice] A new release of pip is available: 25.0.1 -> 25.1.1\n",
            "[notice] To update, run: python.exe -m pip install --upgrade pip\n"
          ]
        }
      ],
      "source": [
        "!pip install rdkit\n",
        "!pip install torch_geometric\n",
        "!pip install torch_scatter torch_sparse torch_cluster torch_spline_conv -f https://data.pyg.org/whl/torch-2.6.0+cu124.html"
      ]
    },
    {
      "cell_type": "code",
      "execution_count": null,
      "metadata": {
        "id": "WVL2eo0g_Iuv"
      },
      "outputs": [],
      "source": [
        "import pickle\n",
        "import numpy as np\n",
        "from rdkit import Chem\n",
        "from rdkit.Chem import Draw, AllChem\n",
        "from rdkit import RDLogger\n",
        "RDLogger.DisableLog('rdApp.*')\n",
        "import matplotlib.pyplot as plt\n",
        "import torch\n",
        "from rdkit import Chem\n",
        "from torch.utils.data import DataLoader, Dataset\n",
        "import torch.nn as nn\n",
        "import matplotlib.pyplot as plt\n",
        "from sklearn.metrics import mean_absolute_error, r2_score"
      ]
    },
    {
      "cell_type": "code",
      "execution_count": 4,
      "metadata": {
        "id": "H8rvaK56_iQ7"
      },
      "outputs": [],
      "source": [
        "with open('pos_data.pkl', 'rb') as f:\n",
        "    pos_data = pickle.load(f)\n",
        "\n",
        "with open('type_data.pkl', 'rb') as f:\n",
        "    type_data = pickle.load(f)\n",
        "\n",
        "with open('smiles.pkl', 'rb') as f:\n",
        "    smiles_data = pickle.load(f)\n",
        "\n",
        "data_split = np.load('data_split.npz')\n",
        "\n",
        "train_idxes = data_split['train_idx']\n",
        "test_idxes = data_split['test_idx']\n",
        "\n",
        "formation_energy = np.load('formation_energy.npz')\n",
        "\n",
        "fe = formation_energy['y'] # normalized formation energy\n",
        "mu = formation_energy['mu']\n",
        "std = formation_energy['sigma']"
      ]
    },
    {
      "cell_type": "code",
      "execution_count": 5,
      "metadata": {
        "id": "DIsGRQcxA_4Q"
      },
      "outputs": [
        {
          "name": "stdout",
          "output_type": "stream",
          "text": [
            "Length of data\n",
            "pos_data: 129012, type_data: 129012, smiles: 129012\n",
            "Idxes\n",
            "train: 119012, test: 10000, sum: 129012\n"
          ]
        }
      ],
      "source": [
        "# shapes of lists\n",
        "print(\"Length of data\")\n",
        "print(f\"pos_data: {len(pos_data)}, type_data: {len(type_data)}, smiles: {len(smiles_data)}\")\n",
        "print(\"Idxes\")\n",
        "print(f\"train: {len(train_idxes)}, test: {len(test_idxes)}, sum: {len(train_idxes) + len(test_idxes)}\")"
      ]
    },
    {
      "cell_type": "code",
      "execution_count": 52,
      "metadata": {},
      "outputs": [
        {
          "data": {
            "image/png": "[encoded data removed]",
            "text/plain": [
              "<Figure size 640x480 with 1 Axes>"
            ]
          },
          "metadata": {},
          "output_type": "display_data"
        },
        {
          "name": "stdout",
          "output_type": "stream",
          "text": [
            "Mean of formation energy: 0.0004583929\n",
            "Standard deviation of formation energy: 1.0020696\n",
            "Maximum formation energy: 6.492535\n",
            "Minimum formation energy: -3.5815375\n"
          ]
        }
      ],
      "source": [
        "# Check distribution of formation energy\n",
        "plt.hist(fe, bins=50, density=True)\n",
        "plt.xlabel('Normalized Formation Energy')\n",
        "plt.ylabel('Density')\n",
        "plt.title('Distribution of Normalized Formation Energy')\n",
        "plt.show()\n",
        "\n",
        "print(\"Mean of formation energy:\", np.mean(fe))\n",
        "print(\"Standard deviation of formation energy:\", np.std(fe))\n",
        "print(\"Maximum formation energy:\", np.max(fe))\n",
        "print(\"Minimum formation energy:\", np.min(fe))"
      ]
    },
    {
      "cell_type": "code",
      "execution_count": 6,
      "metadata": {
        "id": "bVDJF7I3BFa2"
      },
      "outputs": [],
      "source": [
        "def at_number_to_atom_name(at_number):\n",
        "    if at_number == 6:\n",
        "        return 'C'\n",
        "    elif at_number == 1:\n",
        "        return 'H'\n",
        "    elif at_number == 7:\n",
        "        return 'N'\n",
        "    elif at_number == 8:\n",
        "        return 'O'\n",
        "    elif at_number == 9:\n",
        "        return 'F'\n",
        "    elif at_number == 16:\n",
        "        return 'S'\n",
        "    else:\n",
        "        return 'Unknown'\n",
        "\n",
        "def inspect_structure(idx):\n",
        "    smile = smiles_data[idx]\n",
        "    pos = pos_data[idx]\n",
        "    typ = type_data[idx]\n",
        "\n",
        "    header = f\"{'Atom':^5}│{'Number':^6}│{'x':^10}│{'y':^10}│{'z':^10}\"\n",
        "    line   = \"─────┼──────┼──────────┼──────────┼──────────\"\n",
        "    print(header)\n",
        "    print(line)\n",
        "\n",
        "    for atom_num, (x, y, z) in zip(typ, pos):\n",
        "        atom_sym = at_number_to_atom_name(atom_num)\n",
        "        print(f\"{atom_sym:^5}│{atom_num:^6}│{x:>10.3f}│{y:>10.3f}│{z:>10.3f}\")\n",
        "    print(\"\")\n",
        "    print(\"\")\n",
        "    print(f'SMILE: {smile}')\n",
        "    print(\"\")\n",
        "    print(\"\")\n",
        "    print(f'Formation Energy: {fe[idx]*std + mu:.3f}')\n",
        "    print(f'Formation Energy (normalized): {fe[idx]:.5f}')\n",
        "    mol = Chem.MolFromSmiles(smile)\n",
        "    if mol:\n",
        "        # RDKit prefers 2‑D coordinates for nice depictions\n",
        "        Chem.AllChem.Compute2DCoords(mol)\n",
        "        img = Draw.MolToImage(mol, size=(300, 300))\n",
        "\n",
        "        # Display with matplotlib (works both in notebooks and scripts)\n",
        "        plt.figure(figsize=(3, 3))\n",
        "        plt.axis('off')\n",
        "        plt.imshow(img)\n",
        "        plt.show()"
      ]
    },
    {
      "cell_type": "code",
      "execution_count": 7,
      "metadata": {
        "id": "K1rs7hhCC4oq"
      },
      "outputs": [
        {
          "name": "stdout",
          "output_type": "stream",
          "text": [
            "Atom │Number│    x     │    y     │    z     \n",
            "─────┼──────┼──────────┼──────────┼──────────\n",
            "  C  │  6   │    -0.013│     1.086│     0.008\n",
            "  H  │  1   │     0.002│    -0.006│     0.002\n",
            "  H  │  1   │     1.012│     1.464│     0.000\n",
            "  H  │  1   │    -0.541│     1.447│    -0.877\n",
            "  H  │  1   │    -0.524│     1.438│     0.906\n",
            "\n",
            "\n",
            "SMILE: C\n",
            "\n",
            "\n",
            "Formation Energy: -17.172\n",
            "Formation Energy (normalized): 5.72327\n"
          ]
        },
        {
          "data": {
            "image/png": "[encoded data removed]",
            "text/plain": [
              "<Figure size 300x300 with 1 Axes>"
            ]
          },
          "metadata": {},
          "output_type": "display_data"
        }
      ],
      "source": [
        "# methane\n",
        "# Note how methane has a relatively high formation energy (compared to QM9)\n",
        "# This correlates with lower thermodynamic stability and higher reactivity\n",
        "# For example, methane readily burns in oxygen (CH₄ + 2O₂ → CO₂ + 2H₂O)\n",
        "inspect_structure(0)"
      ]
    },
    {
      "cell_type": "code",
      "execution_count": 8,
      "metadata": {
        "id": "vo8hYLuQCeBR"
      },
      "outputs": [
        {
          "name": "stdout",
          "output_type": "stream",
          "text": [
            "Atom │Number│    x     │    y     │    z     \n",
            "─────┼──────┼──────────┼──────────┼──────────\n",
            "  C  │  6   │    -0.143│     1.521│     0.693\n",
            "  C  │  6   │     0.003│     0.009│     0.543\n",
            "  C  │  6   │     0.619│    -0.462│    -0.800\n",
            "  C  │  6   │     1.284│    -1.791│    -0.451\n",
            "  C  │  6   │     2.629│    -1.823│     0.182\n",
            "  C  │  6   │     3.588│    -0.659│     0.233\n",
            "  O  │  8   │     4.471│    -0.752│     1.344\n",
            "  N  │  7   │     1.408│    -1.923│     1.022\n",
            "  C  │  6   │     0.902│    -0.661│     1.609\n",
            "  H  │  1   │     0.830│     2.022│     0.609\n",
            "  H  │  1   │    -0.798│     1.937│    -0.079\n",
            "  H  │  1   │    -0.570│     1.786│     1.666\n",
            "  H  │  1   │    -0.991│    -0.449│     0.625\n",
            "  H  │  1   │    -0.142│    -0.594│    -1.573\n",
            "  H  │  1   │     1.332│     0.276│    -1.184\n",
            "  H  │  1   │     0.937│    -2.679│    -0.974\n",
            "  H  │  1   │     3.162│    -2.773│     0.153\n",
            "  H  │  1   │     4.226│    -0.685│    -0.658\n",
            "  H  │  1   │     3.069│     0.309│     0.222\n",
            "  H  │  1   │     3.936│    -0.919│     2.127\n",
            "  H  │  1   │     1.713│     0.013│     1.915\n",
            "  H  │  1   │     0.338│    -0.908│     2.513\n",
            "\n",
            "\n",
            "SMILE: C[C@H]1C[C@H]2[C@@H](CO)[N@H+]2C1\n",
            "\n",
            "\n",
            "Formation Energy: -88.273\n",
            "Formation Energy (normalized): -1.17243\n"
          ]
        },
        {
          "data": {
            "image/png": "[encoded data removed]",
            "text/plain": [
              "<Figure size 300x300 with 1 Axes>"
            ]
          },
          "metadata": {},
          "output_type": "display_data"
        }
      ],
      "source": [
        "# random structure\n",
        "inspect_structure(np.random.choice(range(len(smiles_data))))"
      ]
    },
    {
      "cell_type": "code",
      "execution_count": 9,
      "metadata": {},
      "outputs": [
        {
          "name": "stdout",
          "output_type": "stream",
          "text": [
            "The available device is cpu\n"
          ]
        }
      ],
      "source": [
        "# Check device settings\n",
        "if torch.cuda.is_available():\n",
        "    device = 'cuda'\n",
        "else:\n",
        "    device = 'cpu'\n",
        "\n",
        "print(f'The available device is {device}')"
      ]
    },
    {
      "cell_type": "code",
      "execution_count": null,
      "metadata": {},
      "outputs": [
        {
          "name": "stdout",
          "output_type": "stream",
          "text": [
            "Length of SMILES data: 129012\n",
            "First 10 SMILES strings:\n",
            "0: C\n",
            "1: N\n",
            "2: O\n",
            "3: C#C\n",
            "4: C#N\n",
            "5: C=O\n",
            "6: CC\n",
            "7: CO\n",
            "8: C#CC\n",
            "9: CC#N\n",
            "Max length of SMILES strings: 62\n"
          ]
        }
      ],
      "source": [
        "# These are some print statements inserted by me to check the data\n",
        "\n",
        "# Check the length of the SMILES representation\n",
        "print(f'Length of SMILES data: {len(smiles_data)}')\n",
        "# Check the first 10 SMILES strings\n",
        "print(\"First 10 SMILES strings:\")\n",
        "for i in range(10):\n",
        "    print(f\"{i}: {smiles_data[i]}\")\n",
        "# Check max lenght of SMILES strings\n",
        "max_smiles_length = max(len(smile) for smile in smiles_data) # suggestion for max lenght in model\n",
        "print(f'Max length of SMILES strings: {max_smiles_length}')"
      ]
    },
    {
      "cell_type": "markdown",
      "metadata": {
        "id": "76MeHNQ_Gd9t"
      },
      "source": [
        "## Task 1"
      ]
    },
    {
      "cell_type": "markdown",
      "metadata": {},
      "source": [
        "PART II: SMILES\n",
        "- String sequence to continous values\n",
        "- Permutational invariance should be taken into account with canonical SMILES"
      ]
    },
    {
      "cell_type": "code",
      "execution_count": 23,
      "metadata": {
        "id": "Lv736iffCez4"
      },
      "outputs": [],
      "source": [
        "# Tokenize the SMILES strings\n",
        "# https://jcheminf.biomedcentral.com/articles/10.1186/s13321-023-00725-9\n",
        "# Unclear to me whether we want to encode to values, but seems logical\n",
        "class SMILESAISTokenizer:\n",
        "    def __init__(self):\n",
        "        self.vocab = set()\n",
        "        self.special_tokens = ['<PAD>', '<SOS>', '<EOS>', '<UNK>']\n",
        "        self.token_to_idx = {}\n",
        "        self.idx_to_token = {}\n",
        "    \n",
        "    def build_vocabulary(self, smiles_list):\n",
        "        tokens = set()\n",
        "\n",
        "        for smi in smiles_list:\n",
        "            tokens.update(self.tokenize(smi))\n",
        "\n",
        "        tokens = sorted(list(tokens))\n",
        "        full_vocab = self.special_tokens + tokens\n",
        "        self.vocab = full_vocab\n",
        "        self.token_to_idx = {tok: i for i, tok in enumerate(full_vocab)}\n",
        "        self.idx_to_token = {i: tok for tok, i in self.token_to_idx.items()}\n",
        "\n",
        "        return full_vocab\n",
        "    \n",
        "    def tokenize(self, smiles):\n",
        "        mol = Chem.MolFromSmiles(smiles)\n",
        "        if mol is None:\n",
        "            return []\n",
        "\n",
        "        tokens = []\n",
        "        for atom in mol.GetAtoms():\n",
        "            symbol = atom.GetSymbol()\n",
        "            if atom.GetIsAromatic():\n",
        "                symbol = symbol.lower()\n",
        "\n",
        "            charge = atom.GetFormalCharge()\n",
        "            chiral = str(atom.GetChiralTag())\n",
        "            hs = atom.GetTotalNumHs()\n",
        "            ring = 'R' if atom.IsInRing() else '!R'\n",
        "            neighbors = sorted([nbr.GetSymbol() for nbr in atom.GetNeighbors()])\n",
        "\n",
        "            token = f\"{symbol}:{charge}:{chiral}:{hs}:{ring}:[{','.join(neighbors)}]\"\n",
        "            tokens.append(token)\n",
        "\n",
        "        return tokens\n",
        "\n",
        "    def encode(self, smiles, max_length=None):\n",
        "        tokens = self.tokenize(smiles)\n",
        "        # Add <SOS> and <EOS> tokens to learn start and end of sequence\n",
        "        tokens = ['<SOS>'] + tokens + ['<EOS>']\n",
        "        encoded = [self.token_to_idx.get(tok, self.token_to_idx['<UNK>']) for tok in tokens]\n",
        "\n",
        "        if max_length:\n",
        "            encoded = encoded[:max_length]\n",
        "            encoded += [self.token_to_idx['<PAD>']] * (max_length - len(encoded))\n",
        "        return encoded\n",
        "\n",
        "    def decode(self, indices):\n",
        "        tokens = [self.idx_to_token.get(idx, '<UNK>') for idx in indices]\n",
        "        tokens = [tok for tok in tokens if tok not in self.special_tokens]\n",
        "        return tokens # Not sure whether we need decoder\n",
        "    "
      ]
    },
    {
      "cell_type": "code",
      "execution_count": 24,
      "metadata": {},
      "outputs": [],
      "source": [
        "# # TOY TEST\n",
        "# smiles_list = [\n",
        "#     \"CCO\",         # ethanol\n",
        "#     \"c1ccccc1\",    # benzene\n",
        "#     \"C[N+](C)(C)C\",# tetramethylammonium\n",
        "#     \"O=C=O\"        # carbon dioxide\n",
        "# ]\n",
        "\n",
        "# tokenizer = SMILESAISTokenizer()\n",
        "# # Initialize and build vocab\n",
        "# vocab = tokenizer.build_vocabulary(smiles_list)\n",
        "# print(\"Vocabulary size:\", len(vocab))\n",
        "\n",
        "# # Tokenize and encode a molecule\n",
        "# encoded = tokenizer.encode(\"CCO\", max_length=10)\n",
        "# print(\"Encoded:\", encoded)\n",
        "# print(\"Decoded tokens:\", tokenizer.decode(encoded))"
      ]
    },
    {
      "cell_type": "code",
      "execution_count": null,
      "metadata": {},
      "outputs": [],
      "source": [
        "# Randomized augmentation: https://pubs.rsc.org/en/content/articlelanding/2022/dd/d2dd00058j\n",
        "class SMILESDataset(Dataset):\n",
        "    def __init__(self, tokenizer, smiles_list, formation_energy, augment=True, max_length=None):\n",
        "        self.tokenizer = tokenizer\n",
        "        self.smiles = smiles_list\n",
        "        self.augment = augment\n",
        "        self.max_length = max_length\n",
        "        self.formation_energy = formation_energy\n",
        "\n",
        "    def __len__(self):\n",
        "        return len(self.smiles)\n",
        "\n",
        "    def randomize_smiles(self, mol):\n",
        "        return Chem.MolToSmiles(mol, doRandom=True)\n",
        "\n",
        "    def __getitem__(self, idx):\n",
        "        smiles = self.smiles[idx]\n",
        "        mol = Chem.MolFromSmiles(smiles)\n",
        "        if mol is None:\n",
        "            return self.__getitem__((idx + 1) % len(self.smiles))  # fallback\n",
        "\n",
        "        if self.augment:\n",
        "            smiles = self.randomize_smiles(mol)\n",
        "        else:\n",
        "            smiles = Chem.MolToSmiles(mol, canonical=True)\n",
        "\n",
        "        encoded = self.tokenizer.encode(smiles, max_length=self.max_length)\n",
        "        target = self.formation_energy[idx]\n",
        "        return torch.tensor(encoded, dtype=torch.long), torch.tensor(target, dtype=torch.float32)\n"
      ]
    },
    {
      "cell_type": "code",
      "execution_count": null,
      "metadata": {},
      "outputs": [],
      "source": [
        "# Create tokenzier and dataset\n",
        "tokenizer = SMILESAISTokenizer()\n",
        "tokenizer.build_vocabulary(smiles_data)\n",
        "max_length = 100 # the  maximum length of SMILES strings is 62, tokenization might change that\n",
        "\n",
        "# Split data into train and validation 80/20, already having a test dataset\n",
        "train_data = [smiles_data[i] for i in train_idxes[:-int(0.2 * len(train_idxes))]] # select first 80% of train_idxes; no overlap measured\n",
        "val_data = [smiles_data[i] for i in train_idxes[-int(0.2 * len(train_idxes)):]] # select last 20% of train_idxes; no overlap measured\n",
        "test_data = [smiles_data[i] for i in test_idxes]\n",
        "\n",
        "train_targets = fe[train_idxes[:-int(0.2 * len(train_idxes))]]\n",
        "val_targets = fe[train_idxes[-int(0.2 * len(train_idxes)):]]\n",
        "test_targets = fe[test_idxes]\n",
        "\n",
        "train_dataset = SMILESDataset(tokenizer, train_data, train_targets, augment=True, max_length=max_length)\n",
        "val_dataset = SMILESDataset(tokenizer, val_data, val_targets, augment=False, max_length=max_length)\n",
        "test_dataset = SMILESDataset(tokenizer, test_data, test_targets, augment=False, max_length=max_length)\n",
        "\n",
        "# batch size could potentially be increased with lots of data\n",
        "train_loader = DataLoader(train_dataset, batch_size=32, shuffle=True)\n",
        "val_loader = DataLoader(val_dataset, batch_size=32, shuffle=False)\n",
        "test_loader = DataLoader(test_dataset, batch_size=32, shuffle=False)"
      ]
    },
    {
      "cell_type": "code",
      "execution_count": 36,
      "metadata": {},
      "outputs": [],
      "source": [
        "# Transformer block\n",
        "# https://pubs.rsc.org/en/content/articlelanding/2022/dd/d2dd00058j\n",
        "class TransformerBlock(nn.Module):\n",
        "    def __init__(self, embed_dim, num_heads, ff_dim, dropout=0.1):\n",
        "        super().__init__()\n",
        "        self.attention = nn.MultiheadAttention(embed_dim, num_heads, batch_first=True)\n",
        "        self.layer_norm1 = nn.LayerNorm(embed_dim)\n",
        "        self.layer_norm2 = nn.LayerNorm(embed_dim)\n",
        "        self.mlp = nn.Sequential(\n",
        "            nn.Linear(embed_dim, ff_dim),\n",
        "            nn.GELU(),\n",
        "            nn.Linear(ff_dim, embed_dim)\n",
        "        )\n",
        "        self.dropout = nn.Dropout(dropout)\n",
        "\n",
        "    def forward(self, x):\n",
        "        # Multi-head attention with residual connection\n",
        "        attn_output, _ = self.attention(x, x, x)\n",
        "        x = self.layer_norm1(x + self.dropout(attn_output))\n",
        "\n",
        "        # Feed-forward network with residual connection\n",
        "        mlp_output = self.mlp(x)\n",
        "        x = self.layer_norm2(x + self.dropout(mlp_output))\n",
        "\n",
        "        return x"
      ]
    },
    {
      "cell_type": "code",
      "execution_count": 37,
      "metadata": {},
      "outputs": [],
      "source": [
        "class PositionalEncoding(nn.Module):\n",
        "    def __init__(self, embed_dim, max_len=5000):\n",
        "        super().__init__()\n",
        "        pe = torch.zeros(max_len, embed_dim)\n",
        "        position = torch.arange(0, max_len, dtype=torch.float).unsqueeze(1)\n",
        "        div_term = torch.exp(torch.arange(0, embed_dim, 2).float() * (-torch.log(torch.tensor(10000.0)) / embed_dim))\n",
        "        pe[:, 0::2] = torch.sin(position * div_term)\n",
        "        pe[:, 1::2] = torch.cos(position * div_term)\n",
        "        self.register_buffer('pe', pe.unsqueeze(0))\n",
        "\n",
        "    def forward(self, x):\n",
        "        return x + self.pe[:, :x.size(1)]"
      ]
    },
    {
      "cell_type": "code",
      "execution_count": null,
      "metadata": {},
      "outputs": [],
      "source": [
        "class TransformerDecoder(nn.Module):\n",
        "    def __init__(self, vocab_size, embed_dim, num_heads, ff_dim, num_layers, max_len, dropout=0.1):\n",
        "        super().__init__()\n",
        "        self.embedding = nn.Embedding(vocab_size, embed_dim)\n",
        "        self.positional_encoding = PositionalEncoding(embed_dim, max_len)\n",
        "        self.transformer_blocks = nn.ModuleList([\n",
        "            TransformerBlock(embed_dim, num_heads, ff_dim, dropout) for _ in range(num_layers)\n",
        "        ])\n",
        "        self.layer_norm = nn.LayerNorm(embed_dim)\n",
        "        self.regression_head = nn.Sequential(\n",
        "            nn.Linear(embed_dim, embed_dim // 2),\n",
        "            nn.GELU(),\n",
        "            nn.Linear(embed_dim // 2, 1)  # Output a single value\n",
        "        )\n",
        "\n",
        "    def forward(self, x):\n",
        "        # Input embedding + positional encoding\n",
        "        x = self.embedding(x)\n",
        "        x = self.positional_encoding(x)\n",
        "\n",
        "        # Pass through Transformer blocks\n",
        "        for block in self.transformer_blocks:\n",
        "            x = block(x)\n",
        "\n",
        "        # Apply LayerNorm and regression head\n",
        "        x = self.layer_norm(x)\n",
        "        x = x.mean(dim=1)  # Global pooling (mean over sequence length); this type of pooling should probably be changed\n",
        "        x = self.regression_head(x)\n",
        "\n",
        "        return x"
      ]
    },
    {
      "cell_type": "code",
      "execution_count": null,
      "metadata": {},
      "outputs": [
        {
          "name": "stdout",
          "output_type": "stream",
          "text": [
            "torch.Size([32, 1])\n"
          ]
        }
      ],
      "source": [
        "# Inital guess for parameters\n",
        "vocab_size = len(tokenizer.vocab)  # Vocabulary size from tokenizer\n",
        "embed_dim = 128  # Embedding dimension\n",
        "num_heads = 4  # Number of attention heads; research further the relation between embed dim and heads\n",
        "ff_dim =  512 # Feed-forward network dimension; typically 4 times embedding so 1024\n",
        "num_layers = 6  # Number of Transformer layers\n",
        "max_len = 100  # Maximum sequence length; should be checked based on tokenization\n",
        "\n",
        "model = TransformerDecoder(vocab_size, embed_dim, num_heads, ff_dim, num_layers, max_len)\n",
        "\n",
        "# Example input (batch of tokenized SMILES)\n",
        "input_tokens = torch.randint(0, vocab_size, (32, max_len))  # Batch of 32 sequences\n",
        "output = model(input_tokens)  # Output shape: (32, 1)\n",
        "print(output.shape)  # Should be [32, 1]"
      ]
    },
    {
      "cell_type": "code",
      "execution_count": 47,
      "metadata": {},
      "outputs": [],
      "source": [
        "# Code to train the model \n",
        "def train_model(model, train_loader, val_loader, num_epochs=10, learning_rate=1e-3):\n",
        "    model.to(device)\n",
        "    criterion = nn.MSELoss()\n",
        "    optimizer = torch.optim.Adam(model.parameters(), lr=learning_rate)\n",
        "    train_losses = []\n",
        "    val_losses = []\n",
        "\n",
        "    for epoch in range(num_epochs):\n",
        "        model.train()\n",
        "        total_loss = 0.0\n",
        "\n",
        "        for i, (batch, targets) in enumerate(train_loader):\n",
        "            batch = batch.to(device)\n",
        "            targets = targets.to(device)\n",
        "            optimizer.zero_grad()\n",
        "            outputs = model(batch)\n",
        "            loss = criterion(outputs.squeeze(), targets)\n",
        "            loss.backward()\n",
        "            optimizer.step()\n",
        "            total_loss += loss.item()\n",
        "\n",
        "        avg_loss = total_loss / len(train_loader)\n",
        "        train_losses.append(avg_loss)\n",
        "        print(f\"Epoch {epoch + 1}/{num_epochs}, Training Loss: {avg_loss:.4f}\")\n",
        "\n",
        "        # Validation step\n",
        "        model.eval()\n",
        "        val_loss = 0.0\n",
        "        with torch.no_grad():\n",
        "            for i, (batch, targets) in enumerate(val_loader):\n",
        "                batch = batch.to(device)\n",
        "                targets = targets.to(device)\n",
        "                outputs = model(batch)\n",
        "                loss = criterion(outputs.squeeze(), targets)\n",
        "                val_loss += loss.item()\n",
        "\n",
        "        avg_val_loss = val_loss / len(val_loader)\n",
        "        val_losses.append(avg_val_loss)\n",
        "        print(f\"Validation Loss: {avg_val_loss:.4f}\")\n",
        "\n",
        "    plt.figure(figsize=(10, 6))\n",
        "    plt.plot(range(1, num_epochs + 1), train_losses, label='Training Loss', marker='o')\n",
        "    plt.plot(range(1, num_epochs + 1), val_losses, label='Validation Loss', marker='o')\n",
        "    plt.xlabel('Epochs')\n",
        "    plt.ylabel('Loss')\n",
        "    plt.title('Training and Validation Loss Curves')\n",
        "    plt.legend()\n",
        "    plt.grid()\n",
        "    plt.show()"
      ]
    },
    {
      "cell_type": "code",
      "execution_count": 49,
      "metadata": {},
      "outputs": [
        {
          "name": "stdout",
          "output_type": "stream",
          "text": [
            "Epoch 1/10, Training Loss: 0.9248\n",
            "Validation Loss: 0.9015\n",
            "Epoch 2/10, Training Loss: 0.8247\n",
            "Validation Loss: 0.8397\n",
            "Epoch 3/10, Training Loss: 0.9253\n",
            "Validation Loss: 0.9855\n",
            "Epoch 4/10, Training Loss: 0.9897\n",
            "Validation Loss: 1.0294\n",
            "Epoch 5/10, Training Loss: 0.8015\n",
            "Validation Loss: 0.3786\n",
            "Epoch 6/10, Training Loss: 0.3553\n",
            "Validation Loss: 0.3452\n"
          ]
        },
        {
          "ename": "KeyboardInterrupt",
          "evalue": "",
          "output_type": "error",
          "traceback": [
            "\u001b[1;31m---------------------------------------------------------------------------\u001b[0m",
            "\u001b[1;31mKeyboardInterrupt\u001b[0m                         Traceback (most recent call last)",
            "Cell \u001b[1;32mIn[49], line 2\u001b[0m\n\u001b[0;32m      1\u001b[0m \u001b[38;5;66;03m# Train the model;learning rate potentially lower is better \u001b[39;00m\n\u001b[1;32m----> 2\u001b[0m \u001b[43mtrain_model\u001b[49m\u001b[43m(\u001b[49m\u001b[43mmodel\u001b[49m\u001b[43m,\u001b[49m\u001b[43m \u001b[49m\u001b[43mtrain_loader\u001b[49m\u001b[43m,\u001b[49m\u001b[43m \u001b[49m\u001b[43mval_loader\u001b[49m\u001b[43m,\u001b[49m\u001b[43m \u001b[49m\u001b[43mnum_epochs\u001b[49m\u001b[38;5;241;43m=\u001b[39;49m\u001b[38;5;241;43m10\u001b[39;49m\u001b[43m,\u001b[49m\u001b[43m \u001b[49m\u001b[43mlearning_rate\u001b[49m\u001b[38;5;241;43m=\u001b[39;49m\u001b[38;5;241;43m1e-4\u001b[39;49m\u001b[43m)\u001b[49m\n\u001b[0;32m      3\u001b[0m \u001b[38;5;66;03m# Save the model\u001b[39;00m\n\u001b[0;32m      4\u001b[0m torch\u001b[38;5;241m.\u001b[39msave(model\u001b[38;5;241m.\u001b[39mstate_dict(), \u001b[38;5;124m'\u001b[39m\u001b[38;5;124mtransformer_decoder.pth\u001b[39m\u001b[38;5;124m'\u001b[39m)\n",
            "Cell \u001b[1;32mIn[47], line 19\u001b[0m, in \u001b[0;36mtrain_model\u001b[1;34m(model, train_loader, val_loader, num_epochs, learning_rate)\u001b[0m\n\u001b[0;32m     17\u001b[0m outputs \u001b[38;5;241m=\u001b[39m model(batch)\n\u001b[0;32m     18\u001b[0m loss \u001b[38;5;241m=\u001b[39m criterion(outputs\u001b[38;5;241m.\u001b[39msqueeze(), targets)\n\u001b[1;32m---> 19\u001b[0m \u001b[43mloss\u001b[49m\u001b[38;5;241;43m.\u001b[39;49m\u001b[43mbackward\u001b[49m\u001b[43m(\u001b[49m\u001b[43m)\u001b[49m\n\u001b[0;32m     20\u001b[0m optimizer\u001b[38;5;241m.\u001b[39mstep()\n\u001b[0;32m     21\u001b[0m total_loss \u001b[38;5;241m+\u001b[39m\u001b[38;5;241m=\u001b[39m loss\u001b[38;5;241m.\u001b[39mitem()\n",
            "File \u001b[1;32mc:\\Users\\20182672\\AppData\\Local\\anaconda3\\envs\\MLEngineering\\Lib\\site-packages\\torch\\_tensor.py:626\u001b[0m, in \u001b[0;36mTensor.backward\u001b[1;34m(self, gradient, retain_graph, create_graph, inputs)\u001b[0m\n\u001b[0;32m    616\u001b[0m \u001b[38;5;28;01mif\u001b[39;00m has_torch_function_unary(\u001b[38;5;28mself\u001b[39m):\n\u001b[0;32m    617\u001b[0m     \u001b[38;5;28;01mreturn\u001b[39;00m handle_torch_function(\n\u001b[0;32m    618\u001b[0m         Tensor\u001b[38;5;241m.\u001b[39mbackward,\n\u001b[0;32m    619\u001b[0m         (\u001b[38;5;28mself\u001b[39m,),\n\u001b[1;32m   (...)\u001b[0m\n\u001b[0;32m    624\u001b[0m         inputs\u001b[38;5;241m=\u001b[39minputs,\n\u001b[0;32m    625\u001b[0m     )\n\u001b[1;32m--> 626\u001b[0m \u001b[43mtorch\u001b[49m\u001b[38;5;241;43m.\u001b[39;49m\u001b[43mautograd\u001b[49m\u001b[38;5;241;43m.\u001b[39;49m\u001b[43mbackward\u001b[49m\u001b[43m(\u001b[49m\n\u001b[0;32m    627\u001b[0m \u001b[43m    \u001b[49m\u001b[38;5;28;43mself\u001b[39;49m\u001b[43m,\u001b[49m\u001b[43m \u001b[49m\u001b[43mgradient\u001b[49m\u001b[43m,\u001b[49m\u001b[43m \u001b[49m\u001b[43mretain_graph\u001b[49m\u001b[43m,\u001b[49m\u001b[43m \u001b[49m\u001b[43mcreate_graph\u001b[49m\u001b[43m,\u001b[49m\u001b[43m \u001b[49m\u001b[43minputs\u001b[49m\u001b[38;5;241;43m=\u001b[39;49m\u001b[43minputs\u001b[49m\n\u001b[0;32m    628\u001b[0m \u001b[43m\u001b[49m\u001b[43m)\u001b[49m\n",
            "File \u001b[1;32mc:\\Users\\20182672\\AppData\\Local\\anaconda3\\envs\\MLEngineering\\Lib\\site-packages\\torch\\autograd\\__init__.py:347\u001b[0m, in \u001b[0;36mbackward\u001b[1;34m(tensors, grad_tensors, retain_graph, create_graph, grad_variables, inputs)\u001b[0m\n\u001b[0;32m    342\u001b[0m     retain_graph \u001b[38;5;241m=\u001b[39m create_graph\n\u001b[0;32m    344\u001b[0m \u001b[38;5;66;03m# The reason we repeat the same comment below is that\u001b[39;00m\n\u001b[0;32m    345\u001b[0m \u001b[38;5;66;03m# some Python versions print out the first line of a multi-line function\u001b[39;00m\n\u001b[0;32m    346\u001b[0m \u001b[38;5;66;03m# calls in the traceback and some print out the last line\u001b[39;00m\n\u001b[1;32m--> 347\u001b[0m \u001b[43m_engine_run_backward\u001b[49m\u001b[43m(\u001b[49m\n\u001b[0;32m    348\u001b[0m \u001b[43m    \u001b[49m\u001b[43mtensors\u001b[49m\u001b[43m,\u001b[49m\n\u001b[0;32m    349\u001b[0m \u001b[43m    \u001b[49m\u001b[43mgrad_tensors_\u001b[49m\u001b[43m,\u001b[49m\n\u001b[0;32m    350\u001b[0m \u001b[43m    \u001b[49m\u001b[43mretain_graph\u001b[49m\u001b[43m,\u001b[49m\n\u001b[0;32m    351\u001b[0m \u001b[43m    \u001b[49m\u001b[43mcreate_graph\u001b[49m\u001b[43m,\u001b[49m\n\u001b[0;32m    352\u001b[0m \u001b[43m    \u001b[49m\u001b[43minputs\u001b[49m\u001b[43m,\u001b[49m\n\u001b[0;32m    353\u001b[0m \u001b[43m    \u001b[49m\u001b[43mallow_unreachable\u001b[49m\u001b[38;5;241;43m=\u001b[39;49m\u001b[38;5;28;43;01mTrue\u001b[39;49;00m\u001b[43m,\u001b[49m\n\u001b[0;32m    354\u001b[0m \u001b[43m    \u001b[49m\u001b[43maccumulate_grad\u001b[49m\u001b[38;5;241;43m=\u001b[39;49m\u001b[38;5;28;43;01mTrue\u001b[39;49;00m\u001b[43m,\u001b[49m\n\u001b[0;32m    355\u001b[0m \u001b[43m\u001b[49m\u001b[43m)\u001b[49m\n",
            "File \u001b[1;32mc:\\Users\\20182672\\AppData\\Local\\anaconda3\\envs\\MLEngineering\\Lib\\site-packages\\torch\\autograd\\graph.py:823\u001b[0m, in \u001b[0;36m_engine_run_backward\u001b[1;34m(t_outputs, *args, **kwargs)\u001b[0m\n\u001b[0;32m    821\u001b[0m     unregister_hooks \u001b[38;5;241m=\u001b[39m _register_logging_hooks_on_whole_graph(t_outputs)\n\u001b[0;32m    822\u001b[0m \u001b[38;5;28;01mtry\u001b[39;00m:\n\u001b[1;32m--> 823\u001b[0m     \u001b[38;5;28;01mreturn\u001b[39;00m \u001b[43mVariable\u001b[49m\u001b[38;5;241;43m.\u001b[39;49m\u001b[43m_execution_engine\u001b[49m\u001b[38;5;241;43m.\u001b[39;49m\u001b[43mrun_backward\u001b[49m\u001b[43m(\u001b[49m\u001b[43m  \u001b[49m\u001b[38;5;66;43;03m# Calls into the C++ engine to run the backward pass\u001b[39;49;00m\n\u001b[0;32m    824\u001b[0m \u001b[43m        \u001b[49m\u001b[43mt_outputs\u001b[49m\u001b[43m,\u001b[49m\u001b[43m \u001b[49m\u001b[38;5;241;43m*\u001b[39;49m\u001b[43margs\u001b[49m\u001b[43m,\u001b[49m\u001b[43m \u001b[49m\u001b[38;5;241;43m*\u001b[39;49m\u001b[38;5;241;43m*\u001b[39;49m\u001b[43mkwargs\u001b[49m\n\u001b[0;32m    825\u001b[0m \u001b[43m    \u001b[49m\u001b[43m)\u001b[49m  \u001b[38;5;66;03m# Calls into the C++ engine to run the backward pass\u001b[39;00m\n\u001b[0;32m    826\u001b[0m \u001b[38;5;28;01mfinally\u001b[39;00m:\n\u001b[0;32m    827\u001b[0m     \u001b[38;5;28;01mif\u001b[39;00m attach_logging_hooks:\n",
            "\u001b[1;31mKeyboardInterrupt\u001b[0m: "
          ]
        }
      ],
      "source": [
        "# Train the model;learning rate potentially lower is better \n",
        "train_model(model, train_loader, val_loader, num_epochs=10, learning_rate=1e-4)\n",
        "# Save the model\n",
        "torch.save(model.state_dict(), 'transformer_decoder.pth')\n"
      ]
    },
    {
      "cell_type": "code",
      "execution_count": null,
      "metadata": {},
      "outputs": [],
      "source": [
        "# Evaluate the model on the test set\n",
        "def evaluate_model(model, test_loader):\n",
        "    model.to(device)\n",
        "    model.eval()\n",
        "    total_loss = 0.0\n",
        "    criterion = nn.MSELoss()\n",
        "    all_targets = []\n",
        "    all_predictions = []\n",
        "\n",
        "    with torch.no_grad():\n",
        "        for batch, targets in test_loader:\n",
        "            batch = batch.to(device)\n",
        "            targets = targets.to(device)\n",
        "            outputs = model(batch)\n",
        "            loss = criterion(outputs.squeeze(), targets)\n",
        "            total_loss += loss.item()\n",
        "\n",
        "            # Collect predictions and targets for MAE and R²\n",
        "            all_predictions.extend(outputs.squeeze().cpu().numpy())\n",
        "            all_targets.extend(targets.cpu().numpy())\n",
        "\n",
        "    avg_loss = total_loss / len(test_loader)\n",
        "    mae = mean_absolute_error(all_targets, all_predictions)\n",
        "    r2 = r2_score(all_targets, all_predictions)\n",
        "    apd = np.mean([\n",
        "        np.abs((pred - target) / target) for pred, target in zip(all_predictions, all_targets) if target != 0\n",
        "    ]) # Average Percentage Deviation based on \"Understanding the language of molecules...\" paper\n",
        "\n",
        "    print(f\"Test Loss (MSE): {avg_loss:.4f}\")\n",
        "    print(f\"Mean Absolute Error (MAE): {mae:.4f}\")\n",
        "    print(f\"R² Score: {r2:.4f}\")\n",
        "    print(f\"Average Percentage Deviation (APD): {apd:.4f}\")"
      ]
    },
    {
      "cell_type": "markdown",
      "metadata": {
        "id": "n0zvKnpLGf9v"
      },
      "source": [
        "## Task 2"
      ]
    },
    {
      "cell_type": "code",
      "execution_count": null,
      "metadata": {
        "id": "AC1KICrZGgkY"
      },
      "outputs": [],
      "source": []
    },
    {
      "cell_type": "markdown",
      "metadata": {
        "id": "5mIuOY4BGxqU"
      },
      "source": [
        "## Task 3"
      ]
    },
    {
      "cell_type": "code",
      "execution_count": null,
      "metadata": {
        "id": "z_NgxsO3GxEE"
      },
      "outputs": [],
      "source": [
        "def is_valid_smiles(smiles):\n",
        "    if smiles is None:\n",
        "        return False\n",
        "    try:\n",
        "        mol = Chem.MolFromSmiles(smiles)\n",
        "        return mol is not None\n",
        "    except:\n",
        "        return False\n",
        "\n",
        "def canonicalize(smiles):\n",
        "    try:\n",
        "        mol = Chem.MolFromSmiles(smiles)\n",
        "        if mol:\n",
        "            return Chem.MolToSmiles(mol, canonical=True)\n",
        "        return 'None'\n",
        "    except:\n",
        "        return 'None'"
      ]
    },
    {
      "cell_type": "code",
      "execution_count": null,
      "metadata": {
        "id": "SN_jGgOwG4kK"
      },
      "outputs": [
        {
          "data": {
            "text/plain": [
              "('COO', 'COO')"
            ]
          },
          "execution_count": 21,
          "metadata": {},
          "output_type": "execute_result"
        }
      ],
      "source": [
        "canonicalize(\"COO\"), canonicalize(\"O(C)O\")"
      ]
    },
    {
      "cell_type": "code",
      "execution_count": null,
      "metadata": {
        "id": "-bhjYhYrHCuQ"
      },
      "outputs": [
        {
          "data": {
            "text/plain": [
              "(True, True, False)"
            ]
          },
          "execution_count": 22,
          "metadata": {},
          "output_type": "execute_result"
        }
      ],
      "source": [
        "is_valid_smiles(\"COO\"), is_valid_smiles(\"O(C)O\"), is_valid_smiles(\"C##\")"
      ]
    },
    {
      "cell_type": "code",
      "execution_count": null,
      "metadata": {
        "id": "0_YgzDpMH-Vl"
      },
      "outputs": [],
      "source": []
    }
  ],
  "metadata": {
    "colab": {
      "provenance": []
    },
    "kernelspec": {
      "display_name": "MLEngineering",
      "language": "python",
      "name": "python3"
    },
    "language_info": {
      "codemirror_mode": {
        "name": "ipython",
        "version": 3
      },
      "file_extension": ".py",
      "mimetype": "text/x-python",
      "name": "python",
      "nbconvert_exporter": "python",
      "pygments_lexer": "ipython3",
      "version": "3.12.9"
    }
  },
  "nbformat": 4,
  "nbformat_minor": 0
}
